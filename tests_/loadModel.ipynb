{
 "cells": [
  {
   "cell_type": "code",
   "execution_count": 1,
   "metadata": {},
   "outputs": [
    {
     "name": "stderr",
     "output_type": "stream",
     "text": [
      "c:\\Users\\vegaarellano\\Documents\\Gitlab\\instancesegmentation\\pytorch-img-seg\\lib\\site-packages\\tqdm\\auto.py:22: TqdmWarning: IProgress not found. Please update jupyter and ipywidgets. See https://ipywidgets.readthedocs.io/en/stable/user_install.html\n",
      "  from .autonotebook import tqdm as notebook_tqdm\n"
     ]
    },
    {
     "ename": "ModuleNotFoundError",
     "evalue": "No module named 'deepLearningModels'",
     "output_type": "error",
     "traceback": [
      "\u001b[1;31m---------------------------------------------------------------------------\u001b[0m",
      "\u001b[1;31mModuleNotFoundError\u001b[0m                       Traceback (most recent call last)",
      "\u001b[1;32mc:\\Users\\vegaarellano\\Documents\\Gitlab\\instancesegmentation\\tests\\loadModel.ipynb Zelle 1\u001b[0m in \u001b[0;36m<cell line: 6>\u001b[1;34m()\u001b[0m\n\u001b[0;32m      <a href='vscode-notebook-cell:/c%3A/Users/vegaarellano/Documents/Gitlab/instancesegmentation/tests/loadModel.ipynb#ch0000000?line=3'>4</a>\u001b[0m \u001b[39mimport\u001b[39;00m \u001b[39mnumpy\u001b[39;00m \u001b[39mas\u001b[39;00m \u001b[39mnp\u001b[39;00m\n\u001b[0;32m      <a href='vscode-notebook-cell:/c%3A/Users/vegaarellano/Documents/Gitlab/instancesegmentation/tests/loadModel.ipynb#ch0000000?line=4'>5</a>\u001b[0m \u001b[39mimport\u001b[39;00m \u001b[39mnapari\u001b[39;00m\n\u001b[1;32m----> <a href='vscode-notebook-cell:/c%3A/Users/vegaarellano/Documents/Gitlab/instancesegmentation/tests/loadModel.ipynb#ch0000000?line=5'>6</a>\u001b[0m \u001b[39mfrom\u001b[39;00m \u001b[39mdeepLearningModels\u001b[39;00m\u001b[39m.\u001b[39;00m\u001b[39munet\u001b[39;00m \u001b[39mimport\u001b[39;00m test\n\u001b[0;32m      <a href='vscode-notebook-cell:/c%3A/Users/vegaarellano/Documents/Gitlab/instancesegmentation/tests/loadModel.ipynb#ch0000000?line=6'>7</a>\u001b[0m \u001b[39mfrom\u001b[39;00m \u001b[39mutils\u001b[39;00m\u001b[39m.\u001b[39;00m\u001b[39mhelper\u001b[39;00m \u001b[39mimport\u001b[39;00m \u001b[39m*\u001b[39m\n\u001b[0;32m      <a href='vscode-notebook-cell:/c%3A/Users/vegaarellano/Documents/Gitlab/instancesegmentation/tests/loadModel.ipynb#ch0000000?line=7'>8</a>\u001b[0m \u001b[39mfrom\u001b[39;00m \u001b[39mutils\u001b[39;00m\u001b[39m.\u001b[39;00m\u001b[39mlosses\u001b[39;00m \u001b[39mimport\u001b[39;00m \u001b[39m*\u001b[39m\n",
      "\u001b[1;31mModuleNotFoundError\u001b[0m: No module named 'deepLearningModels'"
     ]
    }
   ],
   "source": [
    "import torch\n",
    "import matplotlib.pyplot as plt\n",
    "from torch import nn\n",
    "import numpy as np\n",
    "import napari\n",
    "from deepLearningModels.unet import test\n",
    "from utils.helper import *\n",
    "from utils.losses import *\n",
    "from utils.transformations import stroke_val_transformations, CustomTestStrokTrans\n",
    "from readConfig import model_configuration\n",
    "from utils.helper import save_imagen3d, resize_nifti_file\n",
    "from tqdm import tqdm\n",
    "import torchvision"
   ]
  },
  {
   "cell_type": "code",
   "execution_count": null,
   "metadata": {},
   "outputs": [],
   "source": [
    "folder = \"\"\n",
    "\n",
    "\n",
    "device = \"cuda\" if torch.cuda.is_available() else \"cpu\"\n",
    "batch_size = model_configuration[\"hyper_parameters\"][\"batch_size\"]\n",
    "image_height = model_configuration[\"input_image\"][\"image_height\"]\n",
    "image_width = model_configuration[\"input_image\"][\"image_widths\"]\n",
    "num_input_channels = 1\n",
    "# Load model configuration       \n",
    "\n",
    "checkpoint = torch.load(model_uri)\n",
    "learning_rate = checkpoint['learning_rate']\n",
    "threshold = model_configuration[\"hyper_parameters\"][\"threshold\"]\n",
    "\n",
    "#loaded_model = mlflow.pytorch.load_model(model_uri)\n",
    "# [\"UNET\", \"3DUNET\", \"5DUNET\", \"XNET\"]\n",
    "model = getModel(model_configuration[\"hyper_parameters\"][\"model\"], device\t)\n",
    "\n",
    "# ===== Loss Function ========= \n",
    "# [\"BCE\",\"Dice Score\", \"BCE + Dice Score\"] \n",
    "loss_fn = getLossFunction(model_configuration[\"hyper_parameters\"][\"loss_function\"])    \n",
    "\n",
    "# ===== Optimizer =========    \n",
    "# [\"Adam\",\"AdamW\", \"SGD\",\"RMSprop\", \"Adagrad\"]\n",
    "type_optimizer = model_configuration[\"hyper_parameters\"][\"optimizer\"]\n",
    "optimizer = getOptimizer(type_optimizer,model,model_configuration[\"optimizer_config\"][type_optimizer] )\n",
    "\n",
    "# ================== Load Model ====================\n",
    "model.load_state_dict(checkpoint['model_state_dict'])\n",
    "optimizer.load_state_dict(checkpoint['optimizer_state_dict'])\n",
    "epoch = checkpoint['epochs']\n",
    "loss_function = checkpoint['loss_function']"
   ]
  }
 ],
 "metadata": {
  "kernelspec": {
   "display_name": "Python 3.10.4 ('python-pytorch-gpu')",
   "language": "python",
   "name": "python3"
  },
  "language_info": {
   "codemirror_mode": {
    "name": "ipython",
    "version": 3
   },
   "file_extension": ".py",
   "mimetype": "text/x-python",
   "name": "python",
   "nbconvert_exporter": "python",
   "pygments_lexer": "ipython3",
   "version": "3.10.4"
  },
  "orig_nbformat": 4,
  "vscode": {
   "interpreter": {
    "hash": "093d5465ff97490e0b022d142b90f59cc8a55a6f070251dabb2616970adc559f"
   }
  }
 },
 "nbformat": 4,
 "nbformat_minor": 2
}
