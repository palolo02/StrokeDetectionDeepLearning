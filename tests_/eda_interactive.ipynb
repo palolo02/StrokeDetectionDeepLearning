{
 "cells": [
  {
   "cell_type": "code",
   "execution_count": 2,
   "metadata": {},
   "outputs": [],
   "source": [
    "from tqdm import tqdm\n",
    "import numpy as np\n",
    "import pandas as pd\n",
    "import matplotlib.pyplot as plt\n",
    "from PIL import Image\n",
    "import torch\n",
    "from datetime import datetime, date\n",
    "from torchvision.transforms import transforms\n"
   ]
  },
  {
   "cell_type": "code",
   "execution_count": 47,
   "metadata": {},
   "outputs": [],
   "source": [
    "import json\n",
    "# Read configuration variables\n",
    "with open(\"../config.json\") as config_file:\n",
    "    configuration = json.load(config_file)"
   ]
  },
  {
   "cell_type": "code",
   "execution_count": 4,
   "metadata": {},
   "outputs": [],
   "source": [
    "# Hyperparameters\n",
    "# LEARNING_RAtransformationsE = configuration[\"hyper_parameters\"][\"learning_rate\"]\n",
    "# DEVICE = \"cuda\" if torch.cuda.is_available() else \"cpu\"\n",
    "# BAtransformationsCH_SIZE = configuration[\"hyper_parameters\"][\"batch_size\"]\n",
    "# NUM_EPOCHS = configuration[\"hyper_parameters\"][\"num_epochs\"]\n",
    "# NUM_WORKERS = configuration[\"hyper_parameters\"][\"num_workers\"]\n",
    "# IMAGE_HEIGHtransformations = configuration[\"input_image\"][\"image_height\"]\n",
    "# IMAGE_WIDTH = configuration[\"input_image\"][\"image_widths\"]\n",
    "\n",
    "# PIN_MEMORY = True # Flag to add dataloaders to cuda\n",
    "# LOAD_MODEL = True\n",
    "# MAX_NUM_SAMPLE_TRAIN = configuration[\"samples\"][\"max_num_sample_train\"]\n",
    "# MAX_NUM_SAMPLE_TEST = configuration[\"samples\"][\"max_num_sample_test\"]\n",
    "METADATA = f'../{configuration[\"experiment\"][\"metadata\"]}'\n"
   ]
  },
  {
   "cell_type": "code",
   "execution_count": 8,
   "metadata": {},
   "outputs": [],
   "source": [
    "# load dataset\n",
    "data = pd.read_csv(METADATA, delimiter=\";\")\n",
    "# Remove first unsued column \n",
    "data = data.iloc[:,1:]"
   ]
  },
  {
   "cell_type": "code",
   "execution_count": 9,
   "metadata": {},
   "outputs": [
    {
     "data": {
      "text/html": [
       "<div>\n",
       "<style scoped>\n",
       "    .dataframe tbody tr th:only-of-type {\n",
       "        vertical-align: middle;\n",
       "    }\n",
       "\n",
       "    .dataframe tbody tr th {\n",
       "        vertical-align: top;\n",
       "    }\n",
       "\n",
       "    .dataframe thead th {\n",
       "        text-align: right;\n",
       "    }\n",
       "</style>\n",
       "<table border=\"1\" class=\"dataframe\">\n",
       "  <thead>\n",
       "    <tr style=\"text-align: right;\">\n",
       "      <th></th>\n",
       "      <th>Subject ID</th>\n",
       "      <th>Session</th>\n",
       "      <th>Organism</th>\n",
       "      <th>Organism Part</th>\n",
       "      <th>Developmental Stage</th>\n",
       "      <th># Lesions LH Cortical</th>\n",
       "      <th># Lesions LH Subcortical</th>\n",
       "      <th># Lesions RH Cortical</th>\n",
       "      <th># Lesions RH Subcortical</th>\n",
       "      <th># Lesions Other Location</th>\n",
       "      <th>Primary Stroke Hemisphere</th>\n",
       "      <th>Primary Stroke Location</th>\n",
       "      <th>Secondary Stroke Hemisphere</th>\n",
       "      <th>Secondary Stroke Location</th>\n",
       "      <th>Scanner Strength</th>\n",
       "      <th>Scanner Brand</th>\n",
       "      <th>Image Resolution</th>\n",
       "      <th>ATLAS 1.2</th>\n",
       "    </tr>\n",
       "  </thead>\n",
       "  <tbody>\n",
       "    <tr>\n",
       "      <th>0</th>\n",
       "      <td>sub-r001s001</td>\n",
       "      <td>ses-1</td>\n",
       "      <td>Homo sapiens</td>\n",
       "      <td>Brain</td>\n",
       "      <td>Adult</td>\n",
       "      <td>0</td>\n",
       "      <td>1</td>\n",
       "      <td>1</td>\n",
       "      <td>2</td>\n",
       "      <td>0</td>\n",
       "      <td>Right</td>\n",
       "      <td>Frontal Lobe, Parietal Lobe</td>\n",
       "      <td>Left</td>\n",
       "      <td>Temporal Lobe, Putamen</td>\n",
       "      <td>3T</td>\n",
       "      <td>GE Signa Excite</td>\n",
       "      <td>1.0 x 1.0 x 1.0 mm</td>\n",
       "      <td>1</td>\n",
       "    </tr>\n",
       "    <tr>\n",
       "      <th>1</th>\n",
       "      <td>sub-r001s002</td>\n",
       "      <td>ses-1</td>\n",
       "      <td>Homo sapiens</td>\n",
       "      <td>Brain</td>\n",
       "      <td>Adult</td>\n",
       "      <td>0</td>\n",
       "      <td>1</td>\n",
       "      <td>1</td>\n",
       "      <td>0</td>\n",
       "      <td>0</td>\n",
       "      <td>Right</td>\n",
       "      <td>Occipital Lobe, Temporal Lobe</td>\n",
       "      <td>Left</td>\n",
       "      <td>Temporal Lobe, Putamen</td>\n",
       "      <td>3T</td>\n",
       "      <td>GE Signa Excite</td>\n",
       "      <td>1.0 x 1.0 x 1.0 mm</td>\n",
       "      <td>1</td>\n",
       "    </tr>\n",
       "    <tr>\n",
       "      <th>2</th>\n",
       "      <td>sub-r001s003</td>\n",
       "      <td>ses-1</td>\n",
       "      <td>Homo sapiens</td>\n",
       "      <td>Brain</td>\n",
       "      <td>Adult</td>\n",
       "      <td>0</td>\n",
       "      <td>1</td>\n",
       "      <td>0</td>\n",
       "      <td>1</td>\n",
       "      <td>0</td>\n",
       "      <td>Right</td>\n",
       "      <td>Basal Ganglia, Caudate</td>\n",
       "      <td>Left</td>\n",
       "      <td>Frontal Lobe</td>\n",
       "      <td>3T</td>\n",
       "      <td>GE Signa Excite</td>\n",
       "      <td>1.0 x 1.0 x 1.0 mm</td>\n",
       "      <td>1</td>\n",
       "    </tr>\n",
       "    <tr>\n",
       "      <th>3</th>\n",
       "      <td>sub-r001s004</td>\n",
       "      <td>ses-1</td>\n",
       "      <td>Homo sapiens</td>\n",
       "      <td>Brain</td>\n",
       "      <td>Adult</td>\n",
       "      <td>1</td>\n",
       "      <td>0</td>\n",
       "      <td>0</td>\n",
       "      <td>0</td>\n",
       "      <td>1</td>\n",
       "      <td>Left</td>\n",
       "      <td>Frontal Lobe, Parietal Lobe</td>\n",
       "      <td>Other</td>\n",
       "      <td>Cerebellum</td>\n",
       "      <td>3T</td>\n",
       "      <td>GE Signa Excite</td>\n",
       "      <td>1.0 x 1.0 x 1.0 mm</td>\n",
       "      <td>1</td>\n",
       "    </tr>\n",
       "    <tr>\n",
       "      <th>4</th>\n",
       "      <td>sub-r001s005</td>\n",
       "      <td>ses-1</td>\n",
       "      <td>Homo sapiens</td>\n",
       "      <td>Brain</td>\n",
       "      <td>Adult</td>\n",
       "      <td>0</td>\n",
       "      <td>1</td>\n",
       "      <td>0</td>\n",
       "      <td>0</td>\n",
       "      <td>0</td>\n",
       "      <td>Left</td>\n",
       "      <td>Basal Ganglia, Caudate, Insula</td>\n",
       "      <td>NaN</td>\n",
       "      <td>NaN</td>\n",
       "      <td>3T</td>\n",
       "      <td>GE Signa Excite</td>\n",
       "      <td>1.0 x 1.0 x 1.0 mm</td>\n",
       "      <td>1</td>\n",
       "    </tr>\n",
       "  </tbody>\n",
       "</table>\n",
       "</div>"
      ],
      "text/plain": [
       "     Subject ID Session      Organism Organism Part Developmental Stage  \\\n",
       "0  sub-r001s001   ses-1  Homo sapiens         Brain               Adult   \n",
       "1  sub-r001s002   ses-1  Homo sapiens         Brain               Adult   \n",
       "2  sub-r001s003   ses-1  Homo sapiens         Brain               Adult   \n",
       "3  sub-r001s004   ses-1  Homo sapiens         Brain               Adult   \n",
       "4  sub-r001s005   ses-1  Homo sapiens         Brain               Adult   \n",
       "\n",
       "   # Lesions LH Cortical  # Lesions LH Subcortical  # Lesions RH Cortical  \\\n",
       "0                      0                         1                      1   \n",
       "1                      0                         1                      1   \n",
       "2                      0                         1                      0   \n",
       "3                      1                         0                      0   \n",
       "4                      0                         1                      0   \n",
       "\n",
       "   # Lesions RH Subcortical  # Lesions Other Location  \\\n",
       "0                         2                         0   \n",
       "1                         0                         0   \n",
       "2                         1                         0   \n",
       "3                         0                         1   \n",
       "4                         0                         0   \n",
       "\n",
       "  Primary Stroke Hemisphere         Primary Stroke Location  \\\n",
       "0                     Right     Frontal Lobe, Parietal Lobe   \n",
       "1                     Right   Occipital Lobe, Temporal Lobe   \n",
       "2                     Right          Basal Ganglia, Caudate   \n",
       "3                      Left     Frontal Lobe, Parietal Lobe   \n",
       "4                      Left  Basal Ganglia, Caudate, Insula   \n",
       "\n",
       "  Secondary Stroke Hemisphere Secondary Stroke Location Scanner Strength  \\\n",
       "0                        Left    Temporal Lobe, Putamen               3T   \n",
       "1                        Left    Temporal Lobe, Putamen               3T   \n",
       "2                        Left              Frontal Lobe               3T   \n",
       "3                       Other                Cerebellum               3T   \n",
       "4                         NaN                       NaN               3T   \n",
       "\n",
       "     Scanner Brand    Image Resolution  ATLAS 1.2  \n",
       "0  GE Signa Excite  1.0 x 1.0 x 1.0 mm          1  \n",
       "1  GE Signa Excite  1.0 x 1.0 x 1.0 mm          1  \n",
       "2  GE Signa Excite  1.0 x 1.0 x 1.0 mm          1  \n",
       "3  GE Signa Excite  1.0 x 1.0 x 1.0 mm          1  \n",
       "4  GE Signa Excite  1.0 x 1.0 x 1.0 mm          1  "
      ]
     },
     "execution_count": 9,
     "metadata": {},
     "output_type": "execute_result"
    }
   ],
   "source": [
    "data.head()\n",
    "#data['Subject ID'].head()\n"
   ]
  },
  {
   "cell_type": "code",
   "execution_count": 10,
   "metadata": {},
   "outputs": [
    {
     "data": {
      "image/png": "[encoded data removed]",
      "text/plain": [
       "<Figure size 432x288 with 1 Axes>"
      ]
     },
     "metadata": {
      "needs_background": "light"
     },
     "output_type": "display_data"
    }
   ],
   "source": [
    "\n",
    "fig, ax = plt.subplots()\n",
    "data.loc[:,\"Primary Stroke Hemisphere\"].value_counts()\n",
    "\n",
    "# Example data\n",
    "ax.barh(data.loc[:,\"Primary Stroke Hemisphere\"].value_counts().index,\n",
    "        data.loc[:,\"Primary Stroke Hemisphere\"].value_counts(),\n",
    "        align='center')\n",
    "#ax.set_yticks(y_pos, labels=data['Primary Stroke Hemisphere'].unique)\n",
    "ax.invert_yaxis()  # labels read top-to-bottom\n",
    "ax.set_xlabel('Patients')\n",
    "ax.set_title('Primary Stroke Hemisphere')\n",
    "plt.show()"
   ]
  },
  {
   "cell_type": "code",
   "execution_count": 11,
   "metadata": {},
   "outputs": [
    {
     "data": {
      "image/png": "[encoded data removed]",
      "text/plain": [
       "<Figure size 432x288 with 1 Axes>"
      ]
     },
     "metadata": {
      "needs_background": "light"
     },
     "output_type": "display_data"
    }
   ],
   "source": [
    "column = \"Developmental Stage\"\n",
    "fig, ax = plt.subplots()\n",
    "data.loc[:,column].value_counts()\n",
    "\n",
    "# Example data\n",
    "ax.barh(data.loc[:,column].value_counts().index,\n",
    "        data.loc[:,column].value_counts(),\n",
    "        align='center')\n",
    "#ax.set_yticks(y_pos, labels=data['Primary Stroke Hemisphere'].unique)\n",
    "ax.invert_yaxis()  # labels read top-to-bottom\n",
    "ax.set_xlabel('Patients')\n",
    "ax.set_title(column)\n",
    "plt.show()"
   ]
  },
  {
   "cell_type": "code",
   "execution_count": 66,
   "metadata": {},
   "outputs": [],
   "source": [
    "import napari\n",
    "import nibabel as nib\n",
    "\n",
    "viewer = napari.Viewer()"
   ]
  },
  {
   "cell_type": "code",
   "execution_count": 69,
   "metadata": {},
   "outputs": [],
   "source": [
    "# Display the original image\n",
    "original = \"../dataset/train/images/sub-r001s001_ses-1_T1w.nii.gz\"\n",
    "mask=\"../dataset/train/masks/sub-r001s001_ses-1_space-orig_label-L_desc-T1lesion_mask.nii.gz\"\n",
    "prediction=\"../predictions/result_1_2022-04-26.nii\"\n",
    "\n",
    "test_load = nib.load(original)\n",
    "#test_load = nib.load(original)\n",
    "input_image = test_load.get_fdata() # last dimension is depth\n",
    "viewer.add_image(np.transpose(input_image, axes=[2,0,1]), name=\"Original\")\n",
    "input_image = np.transpose(input_image, (0,1,2))\n",
    "\n"
   ]
  },
  {
   "cell_type": "code",
   "execution_count": 49,
   "metadata": {},
   "outputs": [
    {
     "name": "stdout",
     "output_type": "stream",
     "text": [
      "../dataset/train/masks/\n",
      "====\n",
      "Images with masks: 12189\n",
      " Patients: 308\n",
      " Avg Sequences per Patient: 221.89285714285714\n",
      "Max Sequence: 512\n",
      " Min Sequence: 72 \n"
     ]
    }
   ],
   "source": [
    "import os\n",
    "from skimage import data, util, measure\n",
    "from torchvision.transforms import Resize\n",
    "# Train\n",
    "test_images = f'../dataset/train/images/'\n",
    "test_masks = f'../dataset/train/masks/'\n",
    "dataset = \"Train\"\n",
    "color = \"red\"\n",
    "\n",
    "# Test\n",
    "# test_images = f'../{configuration[\"folders_brain_stroke\"][\"test_img_dir\"]}'\n",
    "# test_masks = f'../{configuration[\"folders_brain_stroke\"][\"test_mask_dir\"]}'\n",
    "# dataset = \"Testing\"\n",
    "# color = \"blue\"\n",
    "\n",
    "#Validation\n",
    "# test_images = f'../{configuration[\"folders_brain_stroke\"][\"val_img_dir\"]}'\n",
    "# test_masks = f'../{configuration[\"folders_brain_stroke\"][\"val_mask_dir\"]}'\n",
    "# dataset = \"Validation\"\n",
    "# color = \"green\"\n",
    "\n",
    "print(test_masks)\n",
    "# count folders\n",
    "total_files_patient = 0\n",
    "centroids = []\n",
    "areas = []\n",
    "sequences = []\n",
    "images_with_masks = 0\n",
    "# Patients\n",
    "for folder in os.listdir(test_masks):\n",
    "    if os.path.isdir(f\"{test_masks}{folder}\"):\n",
    "        total_files_patient += 1\n",
    "        # Sequence of files\n",
    "        sequence = 0\n",
    "        for file in os.listdir(f\"{test_masks}{folder}\"):\n",
    "            if \".png\" in file:\n",
    "                sequence += 1\n",
    "                with Image.open(f\"{test_masks}{folder}/{file}\").convert(\"L\") as img:\n",
    "                    img = Resize(size=(224,224))(img)    \n",
    "                    img_array = np.asarray(img)/255        \n",
    "                    contours = measure.find_contours(img_array,0.6)\n",
    "                    labels = measure.label(img_array, connectivity=1)\n",
    "                    props = measure.regionprops(labels)\n",
    "                    area = np.sum(img_array)        \n",
    "                    [centroids.append(prop.centroid) for prop in props]\n",
    "                    \n",
    "                    if area > 0:\n",
    "                        areas.append(area/img_array.size*100)\n",
    "                        images_with_masks += 1\n",
    "        sequences.append(sequence)\n",
    "    # if total_files_patient == 2:\n",
    "    #     break\n",
    "print(f\"====\\nImages with masks: {images_with_masks}\\n Patients: {total_files_patient}\\n Avg Sequences per Patient: {np.mean(sequences)}\\nMax Sequence: {np.max(sequences)}\\n Min Sequence: {np.min(sequences)} \")\n"
   ]
  },
  {
   "cell_type": "code",
   "execution_count": null,
   "metadata": {},
   "outputs": [],
   "source": [
    "# from skimage import data, util, measure\n",
    "\n",
    "# background = np.zeros((626, 965)) \n",
    "# train_masks = f'../dataset/train/masks/'\n",
    "# centroids = []\n",
    "# areas = []\n",
    "# images_with_masks = 0\n",
    "# for mask in os.listdir(train_masks):\n",
    "#     with Image.open(f\"{train_masks}{mask}\").convert(\"L\") as img:    \n",
    "#         img_array = np.asarray(img)/255        \n",
    "#         contours = measure.find_contours(img_array,0.6)\n",
    "#         labels = measure.label(img_array, connectivity=1)\n",
    "#         props = measure.regionprops(labels)\n",
    "#         area = np.sum(img_array)        \n",
    "#         [centroids.append(prop.centroid) for prop in props]\n",
    "        \n",
    "#         if area > 0:\n",
    "#             areas.append(area/img_array.size*100)\n",
    "#             images_with_masks += 1\n",
    "            \n",
    "# print(f\"====\\nImages with masks: {images_with_masks} \")"
   ]
  },
  {
   "cell_type": "code",
   "execution_count": 51,
   "metadata": {},
   "outputs": [
    {
     "name": "stdout",
     "output_type": "stream",
     "text": [
      "Strokes found: 21515\n"
     ]
    },
    {
     "data": {
      "image/png": "[encoded data removed]",
      "text/plain": [
       "<Figure size 1080x1080 with 1 Axes>"
      ]
     },
     "metadata": {
      "needs_background": "light"
     },
     "output_type": "display_data"
    }
   ],
   "source": [
    "background = np.zeros((224, 224)) \n",
    "# Display the image and plot all contours found\n",
    "print(f\"Strokes found: {len(centroids)}\")\n",
    "fig, ax = plt.subplots( figsize=(15,15))\n",
    "ax.imshow(background, cmap=\"gray\")\n",
    "[ax.plot(c[1],c[0], color=color, marker='o') for c in centroids]\n",
    "plt.title(f\"Location of strokes in {dataset}\")\n",
    "ax.axis('image')\n",
    "plt.show()\n"
   ]
  },
  {
   "cell_type": "code",
   "execution_count": 114,
   "metadata": {},
   "outputs": [
    {
     "data": {
      "text/plain": [
       "tuple"
      ]
     },
     "execution_count": 114,
     "metadata": {},
     "output_type": "execute_result"
    }
   ],
   "source": [
    "\n",
    "# print(f\"Strokes found: {len(centroids)}\")\n",
    "# fig, ax = plt.subplots( figsize=(15,15))\n",
    "# ax.imshow(background, cmap=\"gray\")\n",
    "# [ax.plot(c[1],c[0], color='red', marker='o') for c in centroids]\n",
    "# ax.axis('image')\n",
    "# plt.show()\n",
    "# plt.imshow(arr, cmap='viridis')\n",
    "# plt.colorbar()\n",
    "# plt.imshow(a, cmap='hot', interpolation='nearest')"
   ]
  },
  {
   "cell_type": "code",
   "execution_count": 11,
   "metadata": {},
   "outputs": [
    {
     "name": "stdout",
     "output_type": "stream",
     "text": [
      "Concatenating final results\n"
     ]
    },
    {
     "data": {
      "text/plain": [
       "True"
      ]
     },
     "execution_count": 11,
     "metadata": {},
     "output_type": "execute_result"
    }
   ],
   "source": [
    "#Concatenate  stroke location results\n",
    "import cv2\n",
    "print(\"Concatenating final results\")\n",
    "\n",
    "result_folder = \"../dataProcessing/Stroke/ComparisonStrokeLocation.png\"\n",
    "training_img = \"../dataProcessing/Stroke/TrainingStrokeLocation.png\"\n",
    "testing_img = \"../dataProcessing/Stroke/TestingStrokeLocation.png\"\n",
    "validation_img = \"../dataProcessing/Stroke/ValidationStrokeLocation.png\"\n",
    "\n",
    "imgs = []\n",
    "imgs.append(cv2.imread(training_img))\n",
    "imgs.append(cv2.imread(validation_img))\n",
    "imgs.append(cv2.imread(testing_img))\n",
    "# show the output image\n",
    "cv2.imwrite(f'{result_folder}', cv2.hconcat(imgs))"
   ]
  },
  {
   "cell_type": "code",
   "execution_count": 52,
   "metadata": {},
   "outputs": [
    {
     "name": "stdout",
     "output_type": "stream",
     "text": [
      "Concatenating final results\n"
     ]
    },
    {
     "data": {
      "text/plain": [
       "True"
      ]
     },
     "execution_count": 52,
     "metadata": {},
     "output_type": "execute_result"
    }
   ],
   "source": [
    "#Concatenate  histogram images\n",
    "import cv2\n",
    "print(\"Concatenating final results\")\n",
    "\n",
    "result_folder = \"../dataProcessing/Stroke/ComparisonAreaStrokes.png\"\n",
    "training_img = \"../dataProcessing/Stroke/TrainStrokeAreaHistogram.png\"\n",
    "testing_img = \"../dataProcessing/Stroke/TestingStrokeAreaHistogram.png\"\n",
    "validation_img = \"../dataProcessing/Stroke/ValidationStrokeAreaHistogram.png\"\n",
    "\n",
    "imgs = []\n",
    "imgs.append(cv2.imread(training_img))\n",
    "imgs.append(cv2.imread(validation_img))\n",
    "imgs.append(cv2.imread(testing_img))\n",
    "# show the output image\n",
    "cv2.imwrite(f'{result_folder}', cv2.hconcat(imgs))"
   ]
  },
  {
   "cell_type": "code",
   "execution_count": 33,
   "metadata": {},
   "outputs": [
    {
     "data": {
      "image/png": "[encoded data removed]",
      "text/plain": [
       "<Figure size 1080x1080 with 1 Axes>"
      ]
     },
     "metadata": {
      "needs_background": "light"
     },
     "output_type": "display_data"
    }
   ],
   "source": [
    "import numpy as np\n",
    "import matplotlib\n",
    "import matplotlib.pyplot as plt\n",
    "\n",
    "# Define numbers of generated data points and bins per axis.\n",
    "N_numbers = 100000\n",
    "N_bins = 100\n",
    "\n",
    "# set random seed \n",
    "np.random.seed(0)\n",
    "\n",
    "# Generate 2D normally distributed numbers.\n",
    "x = []\n",
    "y = []\n",
    "for c in centroids:\n",
    "    x.append(c[1])\n",
    "    y.append(c[0])\n",
    "# Construct 2D histogram from data using the 'plasma' colormap\n",
    "fig, ax = plt.subplots( figsize=(15,15))\n",
    "plt.hist2d(x, y, bins=N_bins, cmap='BuPu')\n",
    "\n",
    "# Plot a colorbar with label.\n",
    "#cb = plt.colorbar()\n",
    "#cb.set_label('Number of strokes')\n",
    "\n",
    "# Add title and labels to plot.\n",
    "plt.title('Stroke location in the training dataset')\n",
    "plt.xlabel('')\n",
    "plt.ylabel('')\n",
    "plt.xlim([0, 224])\n",
    "plt.ylim([0, 224])\n",
    "# Show the plot. background = np.zeros((626, 965)) \n",
    "plt.show()"
   ]
  },
  {
   "cell_type": "code",
   "execution_count": 34,
   "metadata": {},
   "outputs": [
    {
     "ename": "ValueError",
     "evalue": "not enough values to unpack (expected 2, got 0)",
     "output_type": "error",
     "traceback": [
      "\u001b[1;31m---------------------------------------------------------------------------\u001b[0m",
      "\u001b[1;31mValueError\u001b[0m                                Traceback (most recent call last)",
      "\u001b[1;32mc:\\Users\\vegaarellano\\Documents\\Gitlab\\instancesegmentation\\tests\\eda_interactive.ipynb Cell 15'\u001b[0m in \u001b[0;36m<cell line: 11>\u001b[1;34m()\u001b[0m\n\u001b[0;32m      <a href='vscode-notebook-cell:/c%3A/Users/vegaarellano/Documents/Gitlab/instancesegmentation/tests/eda_interactive.ipynb#ch0000014?line=8'>9</a>\u001b[0m fig, ax \u001b[39m=\u001b[39m plt\u001b[39m.\u001b[39msubplots( figsize\u001b[39m=\u001b[39m(\u001b[39m15\u001b[39m,\u001b[39m15\u001b[39m))\n\u001b[0;32m     <a href='vscode-notebook-cell:/c%3A/Users/vegaarellano/Documents/Gitlab/instancesegmentation/tests/eda_interactive.ipynb#ch0000014?line=9'>10</a>\u001b[0m \u001b[39m#plt.hist2d(x, y, bins=N_bins, cmap='plasma')\u001b[39;00m\n\u001b[1;32m---> <a href='vscode-notebook-cell:/c%3A/Users/vegaarellano/Documents/Gitlab/instancesegmentation/tests/eda_interactive.ipynb#ch0000014?line=10'>11</a>\u001b[0m ax\u001b[39m.\u001b[39;49mpcolor(x, y, \u001b[39mNone\u001b[39;49;00m, cmap\u001b[39m=\u001b[39;49m\u001b[39m'\u001b[39;49m\u001b[39mRdBu\u001b[39;49m\u001b[39m'\u001b[39;49m, vmin\u001b[39m=\u001b[39;49m\u001b[39m0\u001b[39;49m, vmax\u001b[39m=\u001b[39;49m\u001b[39m65\u001b[39;49m)\n\u001b[0;32m     <a href='vscode-notebook-cell:/c%3A/Users/vegaarellano/Documents/Gitlab/instancesegmentation/tests/eda_interactive.ipynb#ch0000014?line=11'>12</a>\u001b[0m ax\u001b[39m.\u001b[39mset_title(\u001b[39m'\u001b[39m\u001b[39mpcolor\u001b[39m\u001b[39m'\u001b[39m)\n\u001b[0;32m     <a href='vscode-notebook-cell:/c%3A/Users/vegaarellano/Documents/Gitlab/instancesegmentation/tests/eda_interactive.ipynb#ch0000014?line=12'>13</a>\u001b[0m fig\u001b[39m.\u001b[39mcolorbar(c, ax\u001b[39m=\u001b[39max)\n",
      "File \u001b[1;32mc:\\Users\\vegaarellano\\Anaconda3\\envs\\python-pytorch-gpu\\lib\\site-packages\\matplotlib\\__init__.py:1412\u001b[0m, in \u001b[0;36m_preprocess_data.<locals>.inner\u001b[1;34m(ax, data, *args, **kwargs)\u001b[0m\n\u001b[0;32m   <a href='file:///c%3A/Users/vegaarellano/Anaconda3/envs/python-pytorch-gpu/lib/site-packages/matplotlib/__init__.py?line=1408'>1409</a>\u001b[0m \u001b[39m@functools\u001b[39m\u001b[39m.\u001b[39mwraps(func)\n\u001b[0;32m   <a href='file:///c%3A/Users/vegaarellano/Anaconda3/envs/python-pytorch-gpu/lib/site-packages/matplotlib/__init__.py?line=1409'>1410</a>\u001b[0m \u001b[39mdef\u001b[39;00m \u001b[39minner\u001b[39m(ax, \u001b[39m*\u001b[39margs, data\u001b[39m=\u001b[39m\u001b[39mNone\u001b[39;00m, \u001b[39m*\u001b[39m\u001b[39m*\u001b[39mkwargs):\n\u001b[0;32m   <a href='file:///c%3A/Users/vegaarellano/Anaconda3/envs/python-pytorch-gpu/lib/site-packages/matplotlib/__init__.py?line=1410'>1411</a>\u001b[0m     \u001b[39mif\u001b[39;00m data \u001b[39mis\u001b[39;00m \u001b[39mNone\u001b[39;00m:\n\u001b[1;32m-> <a href='file:///c%3A/Users/vegaarellano/Anaconda3/envs/python-pytorch-gpu/lib/site-packages/matplotlib/__init__.py?line=1411'>1412</a>\u001b[0m         \u001b[39mreturn\u001b[39;00m func(ax, \u001b[39m*\u001b[39m\u001b[39mmap\u001b[39m(sanitize_sequence, args), \u001b[39m*\u001b[39m\u001b[39m*\u001b[39mkwargs)\n\u001b[0;32m   <a href='file:///c%3A/Users/vegaarellano/Anaconda3/envs/python-pytorch-gpu/lib/site-packages/matplotlib/__init__.py?line=1413'>1414</a>\u001b[0m     bound \u001b[39m=\u001b[39m new_sig\u001b[39m.\u001b[39mbind(ax, \u001b[39m*\u001b[39margs, \u001b[39m*\u001b[39m\u001b[39m*\u001b[39mkwargs)\n\u001b[0;32m   <a href='file:///c%3A/Users/vegaarellano/Anaconda3/envs/python-pytorch-gpu/lib/site-packages/matplotlib/__init__.py?line=1414'>1415</a>\u001b[0m     auto_label \u001b[39m=\u001b[39m (bound\u001b[39m.\u001b[39marguments\u001b[39m.\u001b[39mget(label_namer)\n\u001b[0;32m   <a href='file:///c%3A/Users/vegaarellano/Anaconda3/envs/python-pytorch-gpu/lib/site-packages/matplotlib/__init__.py?line=1415'>1416</a>\u001b[0m                   \u001b[39mor\u001b[39;00m bound\u001b[39m.\u001b[39mkwargs\u001b[39m.\u001b[39mget(label_namer))\n",
      "File \u001b[1;32mc:\\Users\\vegaarellano\\Anaconda3\\envs\\python-pytorch-gpu\\lib\\site-packages\\matplotlib\\axes\\_axes.py:5787\u001b[0m, in \u001b[0;36mAxes.pcolor\u001b[1;34m(self, shading, alpha, norm, cmap, vmin, vmax, *args, **kwargs)\u001b[0m\n\u001b[0;32m   <a href='file:///c%3A/Users/vegaarellano/Anaconda3/envs/python-pytorch-gpu/lib/site-packages/matplotlib/axes/_axes.py?line=5784'>5785</a>\u001b[0m     shading \u001b[39m=\u001b[39m rcParams[\u001b[39m'\u001b[39m\u001b[39mpcolor.shading\u001b[39m\u001b[39m'\u001b[39m]\n\u001b[0;32m   <a href='file:///c%3A/Users/vegaarellano/Anaconda3/envs/python-pytorch-gpu/lib/site-packages/matplotlib/axes/_axes.py?line=5785'>5786</a>\u001b[0m shading \u001b[39m=\u001b[39m shading\u001b[39m.\u001b[39mlower()\n\u001b[1;32m-> <a href='file:///c%3A/Users/vegaarellano/Anaconda3/envs/python-pytorch-gpu/lib/site-packages/matplotlib/axes/_axes.py?line=5786'>5787</a>\u001b[0m X, Y, C, shading \u001b[39m=\u001b[39m \u001b[39mself\u001b[39;49m\u001b[39m.\u001b[39;49m_pcolorargs(\u001b[39m'\u001b[39;49m\u001b[39mpcolor\u001b[39;49m\u001b[39m'\u001b[39;49m, \u001b[39m*\u001b[39;49margs, shading\u001b[39m=\u001b[39;49mshading,\n\u001b[0;32m   <a href='file:///c%3A/Users/vegaarellano/Anaconda3/envs/python-pytorch-gpu/lib/site-packages/matplotlib/axes/_axes.py?line=5787'>5788</a>\u001b[0m                                     kwargs\u001b[39m=\u001b[39;49mkwargs)\n\u001b[0;32m   <a href='file:///c%3A/Users/vegaarellano/Anaconda3/envs/python-pytorch-gpu/lib/site-packages/matplotlib/axes/_axes.py?line=5788'>5789</a>\u001b[0m Ny, Nx \u001b[39m=\u001b[39m X\u001b[39m.\u001b[39mshape\n\u001b[0;32m   <a href='file:///c%3A/Users/vegaarellano/Anaconda3/envs/python-pytorch-gpu/lib/site-packages/matplotlib/axes/_axes.py?line=5790'>5791</a>\u001b[0m \u001b[39m# convert to MA, if necessary.\u001b[39;00m\n",
      "File \u001b[1;32mc:\\Users\\vegaarellano\\Anaconda3\\envs\\python-pytorch-gpu\\lib\\site-packages\\matplotlib\\axes\\_axes.py:5550\u001b[0m, in \u001b[0;36mAxes._pcolorargs\u001b[1;34m(self, funcname, shading, *args, **kwargs)\u001b[0m\n\u001b[0;32m   <a href='file:///c%3A/Users/vegaarellano/Anaconda3/envs/python-pytorch-gpu/lib/site-packages/matplotlib/axes/_axes.py?line=5547'>5548</a>\u001b[0m         \u001b[39mif\u001b[39;00m \u001b[39misinstance\u001b[39m(Y, np\u001b[39m.\u001b[39mma\u001b[39m.\u001b[39mcore\u001b[39m.\u001b[39mMaskedArray):\n\u001b[0;32m   <a href='file:///c%3A/Users/vegaarellano/Anaconda3/envs/python-pytorch-gpu/lib/site-packages/matplotlib/axes/_axes.py?line=5548'>5549</a>\u001b[0m             Y \u001b[39m=\u001b[39m Y\u001b[39m.\u001b[39mdata\n\u001b[1;32m-> <a href='file:///c%3A/Users/vegaarellano/Anaconda3/envs/python-pytorch-gpu/lib/site-packages/matplotlib/axes/_axes.py?line=5549'>5550</a>\u001b[0m     nrows, ncols \u001b[39m=\u001b[39m C\u001b[39m.\u001b[39mshape\n\u001b[0;32m   <a href='file:///c%3A/Users/vegaarellano/Anaconda3/envs/python-pytorch-gpu/lib/site-packages/matplotlib/axes/_axes.py?line=5550'>5551</a>\u001b[0m \u001b[39melse\u001b[39;00m:\n\u001b[0;32m   <a href='file:///c%3A/Users/vegaarellano/Anaconda3/envs/python-pytorch-gpu/lib/site-packages/matplotlib/axes/_axes.py?line=5551'>5552</a>\u001b[0m     \u001b[39mraise\u001b[39;00m \u001b[39mTypeError\u001b[39;00m(\u001b[39mf\u001b[39m\u001b[39m'\u001b[39m\u001b[39m{\u001b[39;00mfuncname\u001b[39m}\u001b[39;00m\u001b[39m() takes 1 or 3 positional arguments \u001b[39m\u001b[39m'\u001b[39m\n\u001b[0;32m   <a href='file:///c%3A/Users/vegaarellano/Anaconda3/envs/python-pytorch-gpu/lib/site-packages/matplotlib/axes/_axes.py?line=5552'>5553</a>\u001b[0m                     \u001b[39mf\u001b[39m\u001b[39m'\u001b[39m\u001b[39mbut \u001b[39m\u001b[39m{\u001b[39;00m\u001b[39mlen\u001b[39m(args)\u001b[39m}\u001b[39;00m\u001b[39m were given\u001b[39m\u001b[39m'\u001b[39m)\n",
      "\u001b[1;31mValueError\u001b[0m: not enough values to unpack (expected 2, got 0)"
     ]
    },
    {
     "data": {
      "image/png": "[encoded data removed]",
      "text/plain": [
       "<Figure size 1080x1080 with 1 Axes>"
      ]
     },
     "metadata": {
      "needs_background": "light"
     },
     "output_type": "display_data"
    }
   ],
   "source": [
    "\n",
    "# Generate 2D normally distributed numbers.\n",
    "x = []\n",
    "y = []\n",
    "z = range(0,20)\n",
    "for c in centroids:\n",
    "    x.append(c[1])\n",
    "    y.append(c[0])\n",
    "# Construct 2D histogram from data using the 'plasma' colormap\n",
    "fig, ax = plt.subplots( figsize=(15,15))\n",
    "#plt.hist2d(x, y, bins=N_bins, cmap='plasma')\n",
    "ax.pcolor(x, y, None, cmap='RdBu', vmin=0, vmax=65)\n",
    "ax.set_title('pcolor')\n",
    "fig.colorbar(c, ax=ax)\n",
    "\n",
    "# Add title and labels to plot.\n",
    "plt.title('Stroke location in the training dataset')\n",
    "plt.xlabel('')\n",
    "plt.ylabel('')\n",
    "\n",
    "# Show the plot.\n",
    "plt.show()\n"
   ]
  },
  {
   "cell_type": "code",
   "execution_count": 50,
   "metadata": {},
   "outputs": [
    {
     "name": "stdout",
     "output_type": "stream",
     "text": [
      "Summary of areas:\n",
      "Strokes found: 12189\n",
      "Max: 10.83% \n",
      "Min: 0.00% \n",
      "Avg: 0.75%\n",
      "Median: 0.23%\n"
     ]
    },
    {
     "data": {
      "image/png": "[encoded data removed]",
      "text/plain": [
       "<Figure size 720x720 with 1 Axes>"
      ]
     },
     "metadata": {
      "needs_background": "light"
     },
     "output_type": "display_data"
    },
    {
     "name": "stdout",
     "output_type": "stream",
     "text": [
      "Train\n"
     ]
    }
   ],
   "source": [
    "#max_value = 1\n",
    "folder_result = f\"../dataProcessing/Stroke/{dataset}StrokeAreaHistogram.png\"\n",
    "print(f\"Summary of areas:\\nStrokes found: {len(areas)}\\nMax: {max(areas):.2f}% \\nMin: {min(areas):.2f}% \\nAvg: {np.mean(areas):.2f}%\\nMedian: {np.median(areas):.2f}%\")\n",
    "max_value = int(max(areas))\n",
    "#print(areas[0:5])\n",
    "fig, ax = plt.subplots( figsize=(10,10))\n",
    "ax.hist(areas, range=(0,max_value), bins=15)\n",
    "plt.title(f\"Histogram of the areas of the strokes in {dataset}\")\n",
    "plt.xlabel(\"Area\")\n",
    "plt.savefig(folder_result, bbox_inches='tight')\n",
    "plt.show()\n",
    "print(dataset)"
   ]
  },
  {
   "cell_type": "code",
   "execution_count": 42,
   "metadata": {},
   "outputs": [
    {
     "name": "stdout",
     "output_type": "stream",
     "text": [
      "Summary of areas:\n",
      "Strokes found: 8216\n",
      "Max: 10.86% \n",
      "Min: 0.00% \n",
      "Avg: 1.62%\n",
      "Median: 0.75%\n"
     ]
    },
    {
     "data": {
      "image/png": "[encoded data removed]",
      "text/plain": [
       "<Figure size 720x720 with 1 Axes>"
      ]
     },
     "metadata": {
      "needs_background": "light"
     },
     "output_type": "display_data"
    }
   ],
   "source": [
    "#max_value = 1\n",
    "print(f\"Summary of areas:\\nStrokes found: {len(areas)}\\nMax: {max(areas):.2f}% \\nMin: {min(areas):.2f}% \\nAvg: {np.mean(areas):.2f}%\\nMedian: {np.median(areas):.2f}%\")\n",
    "max_value = int(max(areas))\n",
    "#print(areas[0:5])\n",
    "fig, ax = plt.subplots( figsize=(10,10))\n",
    "ax.boxplot(areas)\n",
    "plt.show()"
   ]
  },
  {
   "cell_type": "code",
   "execution_count": 28,
   "metadata": {},
   "outputs": [
    {
     "name": "stdout",
     "output_type": "stream",
     "text": [
      "10\n",
      "10\n",
      "10\n"
     ]
    },
    {
     "ename": "ValueError",
     "evalue": "not enough values to unpack (expected 2, got 1)",
     "output_type": "error",
     "traceback": [
      "\u001b[1;31m---------------------------------------------------------------------------\u001b[0m",
      "\u001b[1;31mValueError\u001b[0m                                Traceback (most recent call last)",
      "\u001b[1;32mc:\\Users\\vegaarellano\\Documents\\Gitlab\\instancesegmentation\\tests\\eda_interactive.ipynb Cell 18'\u001b[0m in \u001b[0;36m<cell line: 16>\u001b[1;34m()\u001b[0m\n\u001b[0;32m     <a href='vscode-notebook-cell:/c%3A/Users/vegaarellano/Documents/Gitlab/instancesegmentation/tests/eda_interactive.ipynb#ch0000017?line=11'>12</a>\u001b[0m \u001b[39mprint\u001b[39m(\u001b[39mlen\u001b[39m(z))\n\u001b[0;32m     <a href='vscode-notebook-cell:/c%3A/Users/vegaarellano/Documents/Gitlab/instancesegmentation/tests/eda_interactive.ipynb#ch0000017?line=13'>14</a>\u001b[0m fig, ax \u001b[39m=\u001b[39m plt\u001b[39m.\u001b[39msubplots()\n\u001b[1;32m---> <a href='vscode-notebook-cell:/c%3A/Users/vegaarellano/Documents/Gitlab/instancesegmentation/tests/eda_interactive.ipynb#ch0000017?line=15'>16</a>\u001b[0m c \u001b[39m=\u001b[39m ax\u001b[39m.\u001b[39;49mpcolormesh(x, y, z, cmap\u001b[39m=\u001b[39;49m\u001b[39m'\u001b[39;49m\u001b[39mRdBu\u001b[39;49m\u001b[39m'\u001b[39;49m, vmin\u001b[39m=\u001b[39;49m\u001b[39m0\u001b[39;49m, vmax\u001b[39m=\u001b[39;49m\u001b[39m10\u001b[39;49m)\n\u001b[0;32m     <a href='vscode-notebook-cell:/c%3A/Users/vegaarellano/Documents/Gitlab/instancesegmentation/tests/eda_interactive.ipynb#ch0000017?line=16'>17</a>\u001b[0m ax\u001b[39m.\u001b[39mset_title(\u001b[39m'\u001b[39m\u001b[39mpcolormesh\u001b[39m\u001b[39m'\u001b[39m)\n\u001b[0;32m     <a href='vscode-notebook-cell:/c%3A/Users/vegaarellano/Documents/Gitlab/instancesegmentation/tests/eda_interactive.ipynb#ch0000017?line=17'>18</a>\u001b[0m \u001b[39m# set the limits of the plot to the limits of the data\u001b[39;00m\n",
      "File \u001b[1;32mc:\\Users\\vegaarellano\\Anaconda3\\envs\\python-pytorch-gpu\\lib\\site-packages\\matplotlib\\__init__.py:1412\u001b[0m, in \u001b[0;36m_preprocess_data.<locals>.inner\u001b[1;34m(ax, data, *args, **kwargs)\u001b[0m\n\u001b[0;32m   <a href='file:///c%3A/Users/vegaarellano/Anaconda3/envs/python-pytorch-gpu/lib/site-packages/matplotlib/__init__.py?line=1408'>1409</a>\u001b[0m \u001b[39m@functools\u001b[39m\u001b[39m.\u001b[39mwraps(func)\n\u001b[0;32m   <a href='file:///c%3A/Users/vegaarellano/Anaconda3/envs/python-pytorch-gpu/lib/site-packages/matplotlib/__init__.py?line=1409'>1410</a>\u001b[0m \u001b[39mdef\u001b[39;00m \u001b[39minner\u001b[39m(ax, \u001b[39m*\u001b[39margs, data\u001b[39m=\u001b[39m\u001b[39mNone\u001b[39;00m, \u001b[39m*\u001b[39m\u001b[39m*\u001b[39mkwargs):\n\u001b[0;32m   <a href='file:///c%3A/Users/vegaarellano/Anaconda3/envs/python-pytorch-gpu/lib/site-packages/matplotlib/__init__.py?line=1410'>1411</a>\u001b[0m     \u001b[39mif\u001b[39;00m data \u001b[39mis\u001b[39;00m \u001b[39mNone\u001b[39;00m:\n\u001b[1;32m-> <a href='file:///c%3A/Users/vegaarellano/Anaconda3/envs/python-pytorch-gpu/lib/site-packages/matplotlib/__init__.py?line=1411'>1412</a>\u001b[0m         \u001b[39mreturn\u001b[39;00m func(ax, \u001b[39m*\u001b[39m\u001b[39mmap\u001b[39m(sanitize_sequence, args), \u001b[39m*\u001b[39m\u001b[39m*\u001b[39mkwargs)\n\u001b[0;32m   <a href='file:///c%3A/Users/vegaarellano/Anaconda3/envs/python-pytorch-gpu/lib/site-packages/matplotlib/__init__.py?line=1413'>1414</a>\u001b[0m     bound \u001b[39m=\u001b[39m new_sig\u001b[39m.\u001b[39mbind(ax, \u001b[39m*\u001b[39margs, \u001b[39m*\u001b[39m\u001b[39m*\u001b[39mkwargs)\n\u001b[0;32m   <a href='file:///c%3A/Users/vegaarellano/Anaconda3/envs/python-pytorch-gpu/lib/site-packages/matplotlib/__init__.py?line=1414'>1415</a>\u001b[0m     auto_label \u001b[39m=\u001b[39m (bound\u001b[39m.\u001b[39marguments\u001b[39m.\u001b[39mget(label_namer)\n\u001b[0;32m   <a href='file:///c%3A/Users/vegaarellano/Anaconda3/envs/python-pytorch-gpu/lib/site-packages/matplotlib/__init__.py?line=1415'>1416</a>\u001b[0m                   \u001b[39mor\u001b[39;00m bound\u001b[39m.\u001b[39mkwargs\u001b[39m.\u001b[39mget(label_namer))\n",
      "File \u001b[1;32mc:\\Users\\vegaarellano\\Anaconda3\\envs\\python-pytorch-gpu\\lib\\site-packages\\matplotlib\\axes\\_axes.py:6062\u001b[0m, in \u001b[0;36mAxes.pcolormesh\u001b[1;34m(self, alpha, norm, cmap, vmin, vmax, shading, antialiased, *args, **kwargs)\u001b[0m\n\u001b[0;32m   <a href='file:///c%3A/Users/vegaarellano/Anaconda3/envs/python-pytorch-gpu/lib/site-packages/matplotlib/axes/_axes.py?line=6058'>6059</a>\u001b[0m shading \u001b[39m=\u001b[39m shading\u001b[39m.\u001b[39mlower()\n\u001b[0;32m   <a href='file:///c%3A/Users/vegaarellano/Anaconda3/envs/python-pytorch-gpu/lib/site-packages/matplotlib/axes/_axes.py?line=6059'>6060</a>\u001b[0m kwargs\u001b[39m.\u001b[39msetdefault(\u001b[39m'\u001b[39m\u001b[39medgecolors\u001b[39m\u001b[39m'\u001b[39m, \u001b[39m'\u001b[39m\u001b[39mnone\u001b[39m\u001b[39m'\u001b[39m)\n\u001b[1;32m-> <a href='file:///c%3A/Users/vegaarellano/Anaconda3/envs/python-pytorch-gpu/lib/site-packages/matplotlib/axes/_axes.py?line=6061'>6062</a>\u001b[0m X, Y, C, shading \u001b[39m=\u001b[39m \u001b[39mself\u001b[39;49m\u001b[39m.\u001b[39;49m_pcolorargs(\u001b[39m'\u001b[39;49m\u001b[39mpcolormesh\u001b[39;49m\u001b[39m'\u001b[39;49m, \u001b[39m*\u001b[39;49margs,\n\u001b[0;32m   <a href='file:///c%3A/Users/vegaarellano/Anaconda3/envs/python-pytorch-gpu/lib/site-packages/matplotlib/axes/_axes.py?line=6062'>6063</a>\u001b[0m                                     shading\u001b[39m=\u001b[39;49mshading, kwargs\u001b[39m=\u001b[39;49mkwargs)\n\u001b[0;32m   <a href='file:///c%3A/Users/vegaarellano/Anaconda3/envs/python-pytorch-gpu/lib/site-packages/matplotlib/axes/_axes.py?line=6063'>6064</a>\u001b[0m coords \u001b[39m=\u001b[39m np\u001b[39m.\u001b[39mstack([X, Y], axis\u001b[39m=\u001b[39m\u001b[39m-\u001b[39m\u001b[39m1\u001b[39m)\n\u001b[0;32m   <a href='file:///c%3A/Users/vegaarellano/Anaconda3/envs/python-pytorch-gpu/lib/site-packages/matplotlib/axes/_axes.py?line=6064'>6065</a>\u001b[0m \u001b[39m# convert to one dimensional array\u001b[39;00m\n",
      "File \u001b[1;32mc:\\Users\\vegaarellano\\Anaconda3\\envs\\python-pytorch-gpu\\lib\\site-packages\\matplotlib\\axes\\_axes.py:5550\u001b[0m, in \u001b[0;36mAxes._pcolorargs\u001b[1;34m(self, funcname, shading, *args, **kwargs)\u001b[0m\n\u001b[0;32m   <a href='file:///c%3A/Users/vegaarellano/Anaconda3/envs/python-pytorch-gpu/lib/site-packages/matplotlib/axes/_axes.py?line=5547'>5548</a>\u001b[0m         \u001b[39mif\u001b[39;00m \u001b[39misinstance\u001b[39m(Y, np\u001b[39m.\u001b[39mma\u001b[39m.\u001b[39mcore\u001b[39m.\u001b[39mMaskedArray):\n\u001b[0;32m   <a href='file:///c%3A/Users/vegaarellano/Anaconda3/envs/python-pytorch-gpu/lib/site-packages/matplotlib/axes/_axes.py?line=5548'>5549</a>\u001b[0m             Y \u001b[39m=\u001b[39m Y\u001b[39m.\u001b[39mdata\n\u001b[1;32m-> <a href='file:///c%3A/Users/vegaarellano/Anaconda3/envs/python-pytorch-gpu/lib/site-packages/matplotlib/axes/_axes.py?line=5549'>5550</a>\u001b[0m     nrows, ncols \u001b[39m=\u001b[39m C\u001b[39m.\u001b[39mshape\n\u001b[0;32m   <a href='file:///c%3A/Users/vegaarellano/Anaconda3/envs/python-pytorch-gpu/lib/site-packages/matplotlib/axes/_axes.py?line=5550'>5551</a>\u001b[0m \u001b[39melse\u001b[39;00m:\n\u001b[0;32m   <a href='file:///c%3A/Users/vegaarellano/Anaconda3/envs/python-pytorch-gpu/lib/site-packages/matplotlib/axes/_axes.py?line=5551'>5552</a>\u001b[0m     \u001b[39mraise\u001b[39;00m \u001b[39mTypeError\u001b[39;00m(\u001b[39mf\u001b[39m\u001b[39m'\u001b[39m\u001b[39m{\u001b[39;00mfuncname\u001b[39m}\u001b[39;00m\u001b[39m() takes 1 or 3 positional arguments \u001b[39m\u001b[39m'\u001b[39m\n\u001b[0;32m   <a href='file:///c%3A/Users/vegaarellano/Anaconda3/envs/python-pytorch-gpu/lib/site-packages/matplotlib/axes/_axes.py?line=5552'>5553</a>\u001b[0m                     \u001b[39mf\u001b[39m\u001b[39m'\u001b[39m\u001b[39mbut \u001b[39m\u001b[39m{\u001b[39;00m\u001b[39mlen\u001b[39m(args)\u001b[39m}\u001b[39;00m\u001b[39m were given\u001b[39m\u001b[39m'\u001b[39m)\n",
      "\u001b[1;31mValueError\u001b[0m: not enough values to unpack (expected 2, got 1)"
     ]
    },
    {
     "data": {
      "image/png": "[encoded data removed]",
      "text/plain": [
       "<Figure size 432x288 with 1 Axes>"
      ]
     },
     "metadata": {
      "needs_background": "light"
     },
     "output_type": "display_data"
    }
   ],
   "source": [
    "import matplotlib.pyplot as plt\n",
    "import numpy as np\n",
    "\n",
    "# generate 2 2d grids for the x & y bounds\n",
    "y = np.zeros(10)\n",
    "x = np.zeros(10)\n",
    "\n",
    "z = np.ones(10)\n",
    "\n",
    "print(len(x))\n",
    "print(len(y))\n",
    "print(len(z))\n",
    "\n",
    "fig, ax = plt.subplots()\n",
    "\n",
    "c = ax.pcolormesh(x, y, z, cmap='RdBu', vmin=0, vmax=10)\n",
    "ax.set_title('pcolormesh')\n",
    "# set the limits of the plot to the limits of the data\n",
    "ax.axis([x.min(), x.max(), y.min(), y.max()])\n",
    "fig.colorbar(c, ax=ax)\n",
    "\n",
    "plt.show()"
   ]
  },
  {
   "cell_type": "code",
   "execution_count": 2,
   "metadata": {},
   "outputs": [
    {
     "ename": "NameError",
     "evalue": "name 'centroids' is not defined",
     "output_type": "error",
     "traceback": [
      "\u001b[1;31m---------------------------------------------------------------------------\u001b[0m",
      "\u001b[1;31mNameError\u001b[0m                                 Traceback (most recent call last)",
      "\u001b[1;32mc:\\Users\\vegaarellano\\Documents\\Gitlab\\instancesegmentation\\tests\\eda_interactive.ipynb Cell 19'\u001b[0m in \u001b[0;36m<cell line: 2>\u001b[1;34m()\u001b[0m\n\u001b[0;32m      <a href='vscode-notebook-cell:/c%3A/Users/vegaarellano/Documents/Gitlab/instancesegmentation/tests/eda_interactive.ipynb#ch0000018?line=0'>1</a>\u001b[0m \u001b[39mimport\u001b[39;00m \u001b[39mseaborn\u001b[39;00m \u001b[39mas\u001b[39;00m \u001b[39msns\u001b[39;00m\n\u001b[1;32m----> <a href='vscode-notebook-cell:/c%3A/Users/vegaarellano/Documents/Gitlab/instancesegmentation/tests/eda_interactive.ipynb#ch0000018?line=1'>2</a>\u001b[0m ax \u001b[39m=\u001b[39m sns\u001b[39m.\u001b[39mheatmap(centroids)\n",
      "\u001b[1;31mNameError\u001b[0m: name 'centroids' is not defined"
     ]
    }
   ],
   "source": [
    "import seaborn as sns\n",
    "ax = sns.heatmap(centroids)"
   ]
  },
  {
   "cell_type": "code",
   "execution_count": 1,
   "metadata": {},
   "outputs": [],
   "source": [
    "import pandas as pd\n",
    "import numpy as np"
   ]
  },
  {
   "cell_type": "code",
   "execution_count": 12,
   "metadata": {},
   "outputs": [
    {
     "data": {
      "text/plain": [
       "0    256\n",
       "1    256\n",
       "2    256\n",
       "3    256\n",
       "4    256\n",
       "Name: Depth, dtype: int64"
      ]
     },
     "execution_count": 12,
     "metadata": {},
     "output_type": "execute_result"
    }
   ],
   "source": [
    "# Load files as dataframes\n",
    "training = pd.read_csv(\"../dataProcessing/training_files.csv\", sep=\",\")\n",
    "training = training.loc[:,\"Depth\"]\n",
    "#training.head()\n",
    "validation = pd.read_csv(\"../dataProcessing/validation_files.csv\", sep=\",\")\n",
    "validation = validation.loc[:,\"Depth\"]\n",
    "testing = pd.read_csv(\"../dataProcessing/test_files.csv\", sep=\",\")\n",
    "testing = testing.loc[:,\"Depth\"]\n",
    "testing.head()"
   ]
  },
  {
   "cell_type": "code",
   "execution_count": 13,
   "metadata": {},
   "outputs": [
    {
     "name": "stdout",
     "output_type": "stream",
     "text": [
      "0    181\n",
      "1    155\n",
      "2    197\n",
      "3    197\n",
      "4    195\n",
      "Name: Depth, dtype: int64\n",
      "0    256\n",
      "1    256\n",
      "2    256\n",
      "3    256\n",
      "4    256\n",
      "Name: Depth, dtype: int64\n",
      "0    168\n",
      "1    196\n",
      "2    190\n",
      "3    153\n",
      "4    185\n",
      "Name: Depth, dtype: int64\n"
     ]
    }
   ],
   "source": [
    "print(training.head())\n",
    "print(testing.head())\n",
    "print(validation.head())\n"
   ]
  },
  {
   "cell_type": "code",
   "execution_count": 14,
   "metadata": {},
   "outputs": [
    {
     "data": {
      "text/plain": [
       "0    181\n",
       "1    155\n",
       "2    197\n",
       "3    197\n",
       "4    195\n",
       "Name: Depth, dtype: int64"
      ]
     },
     "execution_count": 14,
     "metadata": {},
     "output_type": "execute_result"
    }
   ],
   "source": [
    "import matplotlib.pyplot as plt\n",
    "\n",
    "result = pd.concat([training,testing, validation])\n",
    "len(result)\n",
    "result.head()\n",
    "\n"
   ]
  },
  {
   "cell_type": "code",
   "execution_count": 36,
   "metadata": {},
   "outputs": [
    {
     "data": {
      "image/png": "[encoded data removed]",
      "text/plain": [
       "<Figure size 432x288 with 1 Axes>"
      ]
     },
     "metadata": {
      "needs_background": "light"
     },
     "output_type": "display_data"
    }
   ],
   "source": [
    "result_img = \"../dataProcessing/Stroke/HistogramOfSlices.png\"\n",
    "\n",
    "# fig, ax = plt.subplots( nrows=1, ncols=1 )  # create figure & 1 axis\n",
    "# ax.hist(result)\n",
    "# ax.set_title(\"Histogram of the number of sequences in our data\")\n",
    "# ax.set_xlabel(\"a\")\n",
    "# fig.savefig(result_img)   # save the figure to file\n",
    "# plt.close(fig)    # close the figure window\n",
    "\n",
    "plt.hist(result)\n",
    "plt.title(\"Histogram of the number of sequences in our data\")\n",
    "plt.xlabel(\"Slices\")\n",
    "plt.savefig(result_img, bbox_inches='tight')\n",
    "plt.show()\n",
    "plt.close()"
   ]
  },
  {
   "cell_type": "code",
   "execution_count": 116,
   "metadata": {},
   "outputs": [
    {
     "name": "stdout",
     "output_type": "stream",
     "text": [
      "torch.Size([4, 1, 224, 224])\n"
     ]
    }
   ],
   "source": [
    "import random\n",
    "import numpy as np\n",
    "from PIL import Image\n",
    "import torchvision.transforms as transforms\n",
    "import torchvision.transforms.functional as TF\n",
    "import torchvision\n",
    "import torch\n",
    "\n",
    "img_c = Image.open(\"../dataset/train/images/sub-r001s001_ses/0114.png\")\n",
    "img_d = Image.open(\"../dataset/train/masks/sub-r001s001_ses_mask/0084.png\")\n",
    "# Original image\n",
    "#img_c.show()\n",
    "#img_d.show()\n",
    "class CustomRandomChoice(torch.nn.Module):\n",
    "    def __init__(self):\n",
    "       super().__init__()       \n",
    "\n",
    "\n",
    "    def __call__(self, img, mask):        \n",
    "        \n",
    "         #t = random.choice(self.transforms)\n",
    "        image = transforms.Grayscale()(img)\n",
    "        seg = transforms.Grayscale()(mask)\n",
    "\n",
    "        #t = random.choice(self.transforms)\n",
    "        # image = [t(img) for t in self.transforms][-1]\n",
    "        # seg = [t(mask) for t in self.transforms][-1]\n",
    "\n",
    "        # Adjusting gamma\n",
    "        image = TF.adjust_gamma(img=image, gamma=1)\n",
    "        image = TF.adjust_contrast(image,2)\n",
    "\n",
    "        # Rotating image\n",
    "        angle_ = random.randint(0, 180)    \n",
    "        image = TF.rotate(image, angle=angle_)\n",
    "        seg = TF.rotate(seg, angle=angle_)\n",
    "\n",
    "        #Random crop\n",
    "        # if type(image) == Image.Image: \n",
    "        #     w, h = image.size\n",
    "        # else:\n",
    "        #     w, h = image.shape[1], image.shape[2]\n",
    "        # x1 = random.randint(0, w)\n",
    "        # y1 = random.randint(0, h)\n",
    "        # image = TF.crop(image,x1,y1,x1 + IMAGE_WIDTH,y1 + IMAGE_HEIGHT)\n",
    "        # seg = TF.crop(seg,x1,y1,x1 + IMAGE_WIDTH,y1 + IMAGE_HEIGHT)\n",
    "\n",
    "        \n",
    "        # Gaussian blur\n",
    "        random_sigma =  random.randint(1, 5)\n",
    "        #print(random_sigma)     \n",
    "        blurrer = transforms.GaussianBlur(kernel_size=(5, 9), sigma=(0.1, random_sigma))\n",
    "        image = blurrer(image)\n",
    "\n",
    "        # Resize\n",
    "        image = transforms.Resize((224,224))(image)\n",
    "        seg = transforms.Resize((224,224))(seg)\n",
    "\n",
    "        # To tensor\n",
    "        image =  transforms.ToTensor()(image)\n",
    "        seg =  transforms.ToTensor()(seg)\n",
    "        \n",
    "        return image, seg\n",
    "\n",
    "class CustomOriginalImages(torch.nn.Module):\n",
    "    def __init__(self):\n",
    "       super().__init__()       \n",
    "\n",
    "\n",
    "    def __call__(self, img, mask):        \n",
    "        \n",
    "        #t = random.choice(self.transforms)\n",
    "        image = transforms.Grayscale()(img)\n",
    "        if mask is not None:\n",
    "            seg = transforms.Grayscale()(mask)\n",
    "        \n",
    "        # Adjusting gamma\n",
    "        image = TF.adjust_gamma(img=image, gamma=1)\n",
    "        image = TF.adjust_contrast(image,2)               \n",
    "            \n",
    "        # Resize\n",
    "        image = transforms.Resize((224,224))(image)\n",
    "        if mask is not None:\n",
    "            seg = transforms.Resize((224,224))(seg)\n",
    "\n",
    "        # To tensor\n",
    "        image =  transforms.ToTensor()(image)\n",
    "        if mask is not None:\n",
    "            seg =  transforms.ToTensor()(seg)\n",
    "            \n",
    "        return image, (seg if mask is not None else None)\n",
    "\n",
    "transform_original = CustomOriginalImages()\n",
    "transform = CustomRandomChoice()\n",
    "res = transform_original(img_c, img_d)\n",
    "o = transform(img_c, img_d)\n",
    "#display(res[0]) # both img_c and img_d will\n",
    "#display(res[1]) # both img_c and img_d will\n",
    "result = torch.cat((res[0].unsqueeze(dim=0), res[1].unsqueeze(dim=0), o[0].unsqueeze(dim=0), o[1].unsqueeze(dim=0)), dim=0)\n",
    "print(result.shape)\n",
    "grid = torchvision.utils.make_grid(result, nrow=4, padding=100)\n",
    "torchvision.utils.save_image(grid, '../dataProcessing/Stroke/dataAugmentationInput.png')  "
   ]
  },
  {
   "cell_type": "code",
   "execution_count": 104,
   "metadata": {},
   "outputs": [
    {
     "data": {
      "text/plain": [
       "tensor([[0.0745, 0.0706, 0.0588, 0.0667, 0.0549, 0.0667, 0.1137, 0.2000, 0.2196,\n",
       "         0.2392],\n",
       "        [0.0745, 0.0706, 0.0667, 0.0627, 0.0510, 0.0471, 0.0745, 0.1294, 0.1294,\n",
       "         0.1373],\n",
       "        [0.0510, 0.0627, 0.0784, 0.0627, 0.0706, 0.0706, 0.0784, 0.0784, 0.0706,\n",
       "         0.0784],\n",
       "        [0.0392, 0.0471, 0.0784, 0.0784, 0.1020, 0.1020, 0.1098, 0.0941, 0.0941,\n",
       "         0.1137],\n",
       "        [0.0627, 0.0667, 0.0824, 0.0941, 0.0902, 0.0980, 0.1137, 0.1059, 0.1020,\n",
       "         0.1059],\n",
       "        [0.0784, 0.0902, 0.0902, 0.1020, 0.0706, 0.0980, 0.1294, 0.1255, 0.1098,\n",
       "         0.1020],\n",
       "        [0.0745, 0.0980, 0.0941, 0.0980, 0.0745, 0.1020, 0.1294, 0.1176, 0.1059,\n",
       "         0.1059],\n",
       "        [0.0745, 0.0980, 0.1020, 0.0941, 0.0902, 0.1059, 0.1098, 0.1020, 0.0941,\n",
       "         0.1020],\n",
       "        [0.0824, 0.0902, 0.1020, 0.0941, 0.0863, 0.0863, 0.0941, 0.1098, 0.0863,\n",
       "         0.0824],\n",
       "        [0.0745, 0.0784, 0.0745, 0.0824, 0.0824, 0.0902, 0.1137, 0.1176, 0.0784,\n",
       "         0.0745]])"
      ]
     },
     "execution_count": 104,
     "metadata": {},
     "output_type": "execute_result"
    }
   ],
   "source": [
    "#torch.max(res[0])\n",
    "res[0][0,100:110,100:110]\n"
   ]
  },
  {
   "cell_type": "code",
   "execution_count": 64,
   "metadata": {},
   "outputs": [
    {
     "data": {
      "image/png": "[encoded data removed]",
      "text/plain": [
       "<Figure size 432x288 with 1 Axes>"
      ]
     },
     "metadata": {
      "needs_background": "light"
     },
     "output_type": "display_data"
    }
   ],
   "source": [
    "plt.imshow(res[1][0,:,:], cmap=\"gray\")\n",
    "plt.savefig(\"../dataProcessing/Stroke/dataAugmentationMask.png\")"
   ]
  },
  {
   "cell_type": "code",
   "execution_count": null,
   "metadata": {},
   "outputs": [],
   "source": [
    "# Implement same transformation but from the nifti file directly\n",
    "\n",
    "import random\n",
    "import numpy as np\n",
    "from PIL import Image\n",
    "import torchvision.transforms as transforms\n",
    "import torchvision.transforms.functional as TF\n",
    "import torch\n",
    "\n",
    "img_c = Image.open(\"../dataset/train/images/sub-r001s001_ses/0114.png\")\n",
    "img_d = Image.open(\"../dataset/train/masks/sub-r001s001_ses_mask/0084.png\")\n",
    "\n",
    "class CustomRandomChoice(torch.nn.Module):\n",
    "    def __init__(self):\n",
    "       super().__init__()       \n",
    "\n",
    "\n",
    "    def __call__(self, img, mask):        \n",
    "        \n",
    "        image = transforms.Grayscale()(img)\n",
    "        seg = transforms.Grayscale()(mask)\n",
    "\n",
    "        #t = random.choice(self.transforms)\n",
    "        # image = [t(img) for t in self.transforms][-1]\n",
    "        # seg = [t(mask) for t in self.transforms][-1]\n",
    "\n",
    "        # Adjusting gamma\n",
    "        image = TF.adjust_gamma(img=image, gamma=1)\n",
    "        image = TF.adjust_contrast(image,2)\n",
    "\n",
    "        # Rotating image\n",
    "        angle_ = random.randint(0, 180)        \n",
    "        image = TF.rotate(image, angle=angle_)\n",
    "        seg = TF.rotate(seg, angle=angle_)\n",
    "\n",
    "        #Random crop\n",
    "        # if type(image) == Image.Image: \n",
    "        #     w, h = image.size\n",
    "        # else:\n",
    "        #     w, h = image.shape[1], image.shape[2]\n",
    "        # x1 = random.randint(0, w)\n",
    "        # y1 = random.randint(0, h)\n",
    "        # image = TF.crop(image,x1,y1,x1 + 224,y1 + 224)\n",
    "        # seg = TF.crop(seg,x1,y1,x1 + 224,y1 + 224)\n",
    "\n",
    "        # Gaussian blur\n",
    "        random_sigma =  random.randint(1, 5)        \n",
    "        blurrer = transforms.GaussianBlur(kernel_size=(5, 9), sigma=(0.1, random_sigma))\n",
    "        image = blurrer(image)\n",
    "\n",
    "        #image = T.CenterCrop(size=(224,224))(image)\n",
    "        #seg = T.CenterCrop(size=(224,224))(seg)\n",
    "\n",
    "        # Resize\n",
    "        image = transforms.Resize((224,224))(image)\n",
    "        seg = transforms.Resize((224,224))(seg)\n",
    "\n",
    "        # To tensor\n",
    "        image =  transforms.ToTensor()(image)\n",
    "        seg =  transforms.ToTensor()(seg)\n",
    "        return image, seg\n",
    "\n",
    "\n",
    "transform = CustomRandomChoice()\n",
    "res = transform(img_c, img_d)\n",
    "display(res[0]) # both img_c and img_d will\n",
    "display(res[1]) # both img_c and img_d will\n",
    "#display(transform(img_d)) # have the same transform"
   ]
  }
 ],
 "metadata": {
  "interpreter": {
   "hash": "093d5465ff97490e0b022d142b90f59cc8a55a6f070251dabb2616970adc559f"
  },
  "kernelspec": {
   "display_name": "Python 3.10.4 ('python-pytorch-gpu')",
   "language": "python",
   "name": "python3"
  },
  "language_info": {
   "codemirror_mode": {
    "name": "ipython",
    "version": 3
   },
   "file_extension": ".py",
   "mimetype": "text/x-python",
   "name": "python",
   "nbconvert_exporter": "python",
   "pygments_lexer": "ipython3",
   "version": "3.10.4"
  },
  "orig_nbformat": 4
 },
 "nbformat": 4,
 "nbformat_minor": 2
}
