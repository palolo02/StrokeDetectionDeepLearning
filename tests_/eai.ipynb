{
 "cells": [
  {
   "cell_type": "code",
   "execution_count": 1,
   "metadata": {},
   "outputs": [
    {
     "name": "stderr",
     "output_type": "stream",
     "text": [
      "c:\\Users\\vegaarellano\\Documents\\Gitlab\\instancesegmentation\\pytorch-img-seg\\lib\\site-packages\\tqdm\\auto.py:22: TqdmWarning: IProgress not found. Please update jupyter and ipywidgets. See https://ipywidgets.readthedocs.io/en/stable/user_install.html\n",
      "  from .autonotebook import tqdm as notebook_tqdm\n"
     ]
    }
   ],
   "source": [
    "import json\n",
    "import torch\n",
    "import numpy as np\n",
    "from torchvision import models, transforms\n",
    "from PIL import Image as PilImage\n",
    "\n",
    "from omnixai.preprocessing.image import Resize\n",
    "from omnixai.data.image import Image\n",
    "from omnixai.explainers.vision import VisionExplainer\n",
    "from omnixai.visualization.dashboard import Dashboard"
   ]
  },
  {
   "cell_type": "code",
   "execution_count": 2,
   "metadata": {},
   "outputs": [
    {
     "ename": "UnidentifiedImageError",
     "evalue": "cannot identify image file <_io.BytesIO object at 0x00000182B5C3F6F0>",
     "output_type": "error",
     "traceback": [
      "\u001b[1;31m---------------------------------------------------------------------------\u001b[0m",
      "\u001b[1;31mUnidentifiedImageError\u001b[0m                    Traceback (most recent call last)",
      "\u001b[1;32mc:\\Users\\vegaarellano\\Documents\\Gitlab\\instancesegmentation\\tests\\eai.ipynb Zelle 2\u001b[0m in \u001b[0;36m<cell line: 5>\u001b[1;34m()\u001b[0m\n\u001b[0;32m      <a href='vscode-notebook-cell:/c%3A/Users/vegaarellano/Documents/Gitlab/instancesegmentation/tests/eai.ipynb#ch0000009?line=1'>2</a>\u001b[0m \u001b[39mfrom\u001b[39;00m \u001b[39mtorchray\u001b[39;00m\u001b[39m.\u001b[39;00m\u001b[39mbenchmark\u001b[39;00m \u001b[39mimport\u001b[39;00m get_example_data, plot_example\n\u001b[0;32m      <a href='vscode-notebook-cell:/c%3A/Users/vegaarellano/Documents/Gitlab/instancesegmentation/tests/eai.ipynb#ch0000009?line=3'>4</a>\u001b[0m \u001b[39m# Obtain example data.\u001b[39;00m\n\u001b[1;32m----> <a href='vscode-notebook-cell:/c%3A/Users/vegaarellano/Documents/Gitlab/instancesegmentation/tests/eai.ipynb#ch0000009?line=4'>5</a>\u001b[0m model, x, category_id, _ \u001b[39m=\u001b[39m get_example_data()\n",
      "File \u001b[1;32mc:\\Users\\vegaarellano\\Documents\\Gitlab\\instancesegmentation\\pytorch-img-seg\\lib\\site-packages\\torchray\\benchmark\\__init__.py:48\u001b[0m, in \u001b[0;36mget_example_data\u001b[1;34m(arch, shape)\u001b[0m\n\u001b[0;32m     46\u001b[0m url \u001b[39m=\u001b[39m \u001b[39m'\u001b[39m\u001b[39mhttps://upload.wikimedia.org/wikipedia/commons/thumb/7/7f/Arthur_Heyer_-_Dog_and_Cats.jpg/592px-Arthur_Heyer_-_Dog_and_Cats.jpg\u001b[39m\u001b[39m'\u001b[39m\n\u001b[0;32m     47\u001b[0m response \u001b[39m=\u001b[39m requests\u001b[39m.\u001b[39mget(url)\n\u001b[1;32m---> 48\u001b[0m img \u001b[39m=\u001b[39m Image\u001b[39m.\u001b[39;49mopen(BytesIO(response\u001b[39m.\u001b[39;49mcontent))\n\u001b[0;32m     50\u001b[0m \u001b[39m# Pre-process the image and convert into a tensor\u001b[39;00m\n\u001b[0;32m     51\u001b[0m transform \u001b[39m=\u001b[39m torchvision\u001b[39m.\u001b[39mtransforms\u001b[39m.\u001b[39mCompose([\n\u001b[0;32m     52\u001b[0m     torchvision\u001b[39m.\u001b[39mtransforms\u001b[39m.\u001b[39mResize(shape),\n\u001b[0;32m     53\u001b[0m     torchvision\u001b[39m.\u001b[39mtransforms\u001b[39m.\u001b[39mCenterCrop(shape),\n\u001b[1;32m   (...)\u001b[0m\n\u001b[0;32m     56\u001b[0m                                      std\u001b[39m=\u001b[39m[\u001b[39m0.229\u001b[39m, \u001b[39m0.224\u001b[39m, \u001b[39m0.225\u001b[39m]),\n\u001b[0;32m     57\u001b[0m ])\n",
      "File \u001b[1;32mc:\\Users\\vegaarellano\\Documents\\Gitlab\\instancesegmentation\\pytorch-img-seg\\lib\\site-packages\\PIL\\Image.py:3123\u001b[0m, in \u001b[0;36mopen\u001b[1;34m(fp, mode, formats)\u001b[0m\n\u001b[0;32m   3121\u001b[0m \u001b[39mfor\u001b[39;00m message \u001b[39min\u001b[39;00m accept_warnings:\n\u001b[0;32m   3122\u001b[0m     warnings\u001b[39m.\u001b[39mwarn(message)\n\u001b[1;32m-> 3123\u001b[0m \u001b[39mraise\u001b[39;00m UnidentifiedImageError(\n\u001b[0;32m   3124\u001b[0m     \u001b[39m\"\u001b[39m\u001b[39mcannot identify image file \u001b[39m\u001b[39m%r\u001b[39;00m\u001b[39m\"\u001b[39m \u001b[39m%\u001b[39m (filename \u001b[39mif\u001b[39;00m filename \u001b[39melse\u001b[39;00m fp)\n\u001b[0;32m   3125\u001b[0m )\n",
      "\u001b[1;31mUnidentifiedImageError\u001b[0m: cannot identify image file <_io.BytesIO object at 0x00000182B5C3F6F0>"
     ]
    }
   ],
   "source": [
    "from torchray.attribution.grad_cam import grad_cam\n",
    "from torchray.benchmark import get_example_data, plot_example\n",
    "\n",
    "# Obtain example data.\n",
    "model, x, category_id, _ = get_example_data()\n",
    "\n",
    "# Grad-CAM backprop.\n",
    "#saliency = grad_cam(model, x, category_id, saliency_layer='features.29')\n",
    "\n",
    "# Plots.\n",
    "#plot_example(x, saliency, 'grad-cam backprop', category_id)"
   ]
  },
  {
   "cell_type": "code",
   "execution_count": 13,
   "metadata": {},
   "outputs": [
    {
     "name": "stdout",
     "output_type": "stream",
     "text": [
      "(3, 256, 256, 1)\n"
     ]
    }
   ],
   "source": [
    "# Load images for testing\n",
    "\"../dataset/test/images/sub-r040s086_ses/0110.png\",\n",
    "img_1 = Resize((256, 256)).transform(Image(PilImage.open('../dataset/test/images/sub-r040s086_ses/0110.png').convert('L')))\n",
    "img_2 = Resize((256, 256)).transform(Image(PilImage.open('../dataset/test/images/sub-r040s086_ses/0111.png').convert('L')))\n",
    "img_3 = Resize((256, 256)).transform(Image(PilImage.open('../dataset/test/images/sub-r040s086_ses/0112.png').convert('L')))\n",
    "img = Image(\n",
    "    data=np.concatenate([\n",
    "        img_1.to_numpy(), img_2.to_numpy(), img_3.to_numpy()]),\n",
    "    batched=True\n",
    ")\n",
    "print(img.shape)"
   ]
  },
  {
   "cell_type": "code",
   "execution_count": 15,
   "metadata": {},
   "outputs": [],
   "source": [
    "from monai.networks.nets.unet import UNet\n",
    "device = \"cuda\" if torch.cuda.is_available() else \"cpu\"\n",
    "#device = \"cpu\"\n",
    "# The preprocessing function\n",
    "transform = transforms.Compose([\n",
    "    transforms.Resize(256),\n",
    "    transforms.CenterCrop(224),\n",
    "    transforms.ToTensor(),\n",
    "    #transforms.Normalize(mean=[0.485, 0.456, 0.406], std=[0.229, 0.224, 0.225])\n",
    "    transforms.Normalize(mean=[0], std=[1])\n",
    "])\n",
    "preprocess = lambda ims: torch.stack([transform(im.to_pil()) for im in ims]).to(device)\n",
    "# A ResNet model to explain\n",
    "#model = models.resnet50(pretrained=True).to(device)\n",
    "model = UNet(\n",
    "            spatial_dims=2,\n",
    "            in_channels=1,\n",
    "            out_channels=1,\n",
    "            channels=(64, 128, 256),\n",
    "            strides=(2, 2),\n",
    "            num_res_units=2\n",
    "        )\n",
    "# The postprocessing function\n",
    "postprocess = lambda logits: torch.nn.functional.softmax(logits, dim=1)"
   ]
  },
  {
   "cell_type": "code",
   "execution_count": 25,
   "metadata": {},
   "outputs": [],
   "source": [
    "import torch.nn as nn\n",
    "class one_step_conv(nn.Module):\n",
    "    def __init__(self, in_ch, out_ch):\n",
    "        super(one_step_conv, self).__init__()\n",
    "        self.conv = nn.Sequential(\n",
    "            # Level 1\n",
    "            nn.Conv2d(in_channels=in_ch, out_channels=out_ch, kernel_size=3, padding=1),            \n",
    "            nn.BatchNorm2d(out_ch),\n",
    "            nn.ReLU(inplace=True),\n",
    "            # Level 2            \n",
    "            nn.Conv2d(in_channels=out_ch, out_channels=out_ch, kernel_size=3, padding=1),            \n",
    "            nn.BatchNorm2d(out_ch),\n",
    "            nn.ReLU(inplace=True),\n",
    "            nn.Dropout(p=0.2)   \n",
    "        )\n",
    "\n",
    "    def forward(self, input):\n",
    "        return self.conv(input)\n",
    "\n",
    "\n",
    "class UnetDeep3(nn.Module):\n",
    "    def __init__(self, in_ch, out_ch):\n",
    "        super(UnetDeep3, self).__init__()\n",
    "        base_filter_num = 64\n",
    "        self.conv_down_1 = one_step_conv(in_ch, base_filter_num)\n",
    "        self.pool1 = nn.MaxPool2d(2)\n",
    "        self.conv_down_2 = one_step_conv(base_filter_num, base_filter_num*2)\n",
    "        self.pool2 = nn.MaxPool2d(2)\n",
    "        self.conv_down_3 = one_step_conv(base_filter_num*2, base_filter_num*4)\n",
    "        self.pool3 = nn.MaxPool2d(2)\n",
    "        self.conv_bottom = one_step_conv(base_filter_num*4, base_filter_num*8)\n",
    "        \n",
    "        \n",
    "        self.upsample_1 = nn.ConvTranspose2d(base_filter_num*8, base_filter_num*4, kernel_size=2, stride=2)\n",
    "        self.conv_up_1 = one_step_conv(base_filter_num*8, base_filter_num*4)\n",
    "        self.upsample_2 = nn.ConvTranspose2d(base_filter_num*4, base_filter_num*2, kernel_size=2, stride=2)\n",
    "        self.conv_up_2 = one_step_conv(base_filter_num*4, base_filter_num*2)\n",
    "        self.upsample_3 = nn.ConvTranspose2d(base_filter_num*2, base_filter_num, kernel_size=2, stride=2)\n",
    "        self.conv_up_3 = one_step_conv(base_filter_num*2, base_filter_num)\n",
    "        self.conv_out = nn.Conv2d(base_filter_num, out_ch, 1)\n",
    "\n",
    "    def forward(self, x):\n",
    "        ###down########        \n",
    "        down_1 = self.conv_down_1(x)\n",
    "        pool_1 = self.pool1(down_1)\n",
    "        down_2 = self.conv_down_2(pool_1)\n",
    "        pool_2 = self.pool2(down_2)\n",
    "        down_3 = self.conv_down_3(pool_2)\n",
    "        pool_3 = self.pool3(down_3)\n",
    "        bottom = self.conv_bottom(pool_3)\n",
    "\n",
    "        up_1 = self.upsample_1(bottom)\n",
    "        merge1 = torch.cat([up_1, down_3], dim=1)\n",
    "        #print(merge1.shape)\n",
    "        up_1_out = self.conv_up_1(merge1)\n",
    "        up_2 = self.upsample_2(up_1_out)\n",
    "        merge2 = torch.cat([up_2, down_2], dim=1)\n",
    "        #print(merge2.shape)\n",
    "        up_2_out = self.conv_up_2(merge2)\n",
    "        up_3 = self.upsample_3(up_2_out)\n",
    "        merge3 = torch.cat([up_3, down_1], dim=1)\n",
    "        #print(merge3.shape)\n",
    "        up_3_out = self.conv_up_3(merge3)\n",
    "        end_out = self.conv_out(up_3_out)\n",
    "        # Applying classification in the output layer        \n",
    "        out = nn.Sigmoid()(end_out)\n",
    "        return out\n"
   ]
  },
  {
   "cell_type": "code",
   "execution_count": 26,
   "metadata": {},
   "outputs": [
    {
     "data": {
      "text/plain": [
       "Conv2d(64, 1, kernel_size=(1, 1), stride=(1, 1))"
      ]
     },
     "execution_count": 26,
     "metadata": {},
     "output_type": "execute_result"
    }
   ],
   "source": [
    "model = UnetDeep3(in_ch=1,out_ch=1)\n",
    "model.conv_out"
   ]
  },
  {
   "cell_type": "code",
   "execution_count": 16,
   "metadata": {},
   "outputs": [
    {
     "data": {
      "text/plain": [
       "UNet(\n",
       "  (model): Sequential(\n",
       "    (0): ResidualUnit(\n",
       "      (conv): Sequential(\n",
       "        (unit0): Convolution(\n",
       "          (conv): Conv2d(1, 64, kernel_size=(3, 3), stride=(2, 2), padding=(1, 1))\n",
       "          (adn): ADN(\n",
       "            (N): InstanceNorm2d(64, eps=1e-05, momentum=0.1, affine=False, track_running_stats=False)\n",
       "            (D): Dropout(p=0.0, inplace=False)\n",
       "            (A): PReLU(num_parameters=1)\n",
       "          )\n",
       "        )\n",
       "        (unit1): Convolution(\n",
       "          (conv): Conv2d(64, 64, kernel_size=(3, 3), stride=(1, 1), padding=(1, 1))\n",
       "          (adn): ADN(\n",
       "            (N): InstanceNorm2d(64, eps=1e-05, momentum=0.1, affine=False, track_running_stats=False)\n",
       "            (D): Dropout(p=0.0, inplace=False)\n",
       "            (A): PReLU(num_parameters=1)\n",
       "          )\n",
       "        )\n",
       "      )\n",
       "      (residual): Conv2d(1, 64, kernel_size=(3, 3), stride=(2, 2), padding=(1, 1))\n",
       "    )\n",
       "    (1): SkipConnection(\n",
       "      (submodule): Sequential(\n",
       "        (0): ResidualUnit(\n",
       "          (conv): Sequential(\n",
       "            (unit0): Convolution(\n",
       "              (conv): Conv2d(64, 128, kernel_size=(3, 3), stride=(2, 2), padding=(1, 1))\n",
       "              (adn): ADN(\n",
       "                (N): InstanceNorm2d(128, eps=1e-05, momentum=0.1, affine=False, track_running_stats=False)\n",
       "                (D): Dropout(p=0.0, inplace=False)\n",
       "                (A): PReLU(num_parameters=1)\n",
       "              )\n",
       "            )\n",
       "            (unit1): Convolution(\n",
       "              (conv): Conv2d(128, 128, kernel_size=(3, 3), stride=(1, 1), padding=(1, 1))\n",
       "              (adn): ADN(\n",
       "                (N): InstanceNorm2d(128, eps=1e-05, momentum=0.1, affine=False, track_running_stats=False)\n",
       "                (D): Dropout(p=0.0, inplace=False)\n",
       "                (A): PReLU(num_parameters=1)\n",
       "              )\n",
       "            )\n",
       "          )\n",
       "          (residual): Conv2d(64, 128, kernel_size=(3, 3), stride=(2, 2), padding=(1, 1))\n",
       "        )\n",
       "        (1): SkipConnection(\n",
       "          (submodule): ResidualUnit(\n",
       "            (conv): Sequential(\n",
       "              (unit0): Convolution(\n",
       "                (conv): Conv2d(128, 256, kernel_size=(3, 3), stride=(1, 1), padding=(1, 1))\n",
       "                (adn): ADN(\n",
       "                  (N): InstanceNorm2d(256, eps=1e-05, momentum=0.1, affine=False, track_running_stats=False)\n",
       "                  (D): Dropout(p=0.0, inplace=False)\n",
       "                  (A): PReLU(num_parameters=1)\n",
       "                )\n",
       "              )\n",
       "              (unit1): Convolution(\n",
       "                (conv): Conv2d(256, 256, kernel_size=(3, 3), stride=(1, 1), padding=(1, 1))\n",
       "                (adn): ADN(\n",
       "                  (N): InstanceNorm2d(256, eps=1e-05, momentum=0.1, affine=False, track_running_stats=False)\n",
       "                  (D): Dropout(p=0.0, inplace=False)\n",
       "                  (A): PReLU(num_parameters=1)\n",
       "                )\n",
       "              )\n",
       "            )\n",
       "            (residual): Conv2d(128, 256, kernel_size=(1, 1), stride=(1, 1))\n",
       "          )\n",
       "        )\n",
       "        (2): Sequential(\n",
       "          (0): Convolution(\n",
       "            (conv): ConvTranspose2d(384, 64, kernel_size=(3, 3), stride=(2, 2), padding=(1, 1), output_padding=(1, 1))\n",
       "            (adn): ADN(\n",
       "              (N): InstanceNorm2d(64, eps=1e-05, momentum=0.1, affine=False, track_running_stats=False)\n",
       "              (D): Dropout(p=0.0, inplace=False)\n",
       "              (A): PReLU(num_parameters=1)\n",
       "            )\n",
       "          )\n",
       "          (1): ResidualUnit(\n",
       "            (conv): Sequential(\n",
       "              (unit0): Convolution(\n",
       "                (conv): Conv2d(64, 64, kernel_size=(3, 3), stride=(1, 1), padding=(1, 1))\n",
       "                (adn): ADN(\n",
       "                  (N): InstanceNorm2d(64, eps=1e-05, momentum=0.1, affine=False, track_running_stats=False)\n",
       "                  (D): Dropout(p=0.0, inplace=False)\n",
       "                  (A): PReLU(num_parameters=1)\n",
       "                )\n",
       "              )\n",
       "            )\n",
       "            (residual): Identity()\n",
       "          )\n",
       "        )\n",
       "      )\n",
       "    )\n",
       "    (2): Sequential(\n",
       "      (0): Convolution(\n",
       "        (conv): ConvTranspose2d(128, 1, kernel_size=(3, 3), stride=(2, 2), padding=(1, 1), output_padding=(1, 1))\n",
       "        (adn): ADN(\n",
       "          (N): InstanceNorm2d(1, eps=1e-05, momentum=0.1, affine=False, track_running_stats=False)\n",
       "          (D): Dropout(p=0.0, inplace=False)\n",
       "          (A): PReLU(num_parameters=1)\n",
       "        )\n",
       "      )\n",
       "      (1): ResidualUnit(\n",
       "        (conv): Sequential(\n",
       "          (unit0): Convolution(\n",
       "            (conv): Conv2d(1, 1, kernel_size=(3, 3), stride=(1, 1), padding=(1, 1))\n",
       "          )\n",
       "        )\n",
       "        (residual): Identity()\n",
       "      )\n",
       "    )\n",
       "  )\n",
       ")"
      ]
     },
     "execution_count": 16,
     "metadata": {},
     "output_type": "execute_result"
    }
   ],
   "source": [
    "model"
   ]
  },
  {
   "cell_type": "code",
   "execution_count": 17,
   "metadata": {},
   "outputs": [
    {
     "ename": "RuntimeError",
     "evalue": "Input type (torch.cuda.FloatTensor) and weight type (torch.FloatTensor) should be the same",
     "output_type": "error",
     "traceback": [
      "\u001b[1;31m---------------------------------------------------------------------------\u001b[0m",
      "\u001b[1;31mRuntimeError\u001b[0m                              Traceback (most recent call last)",
      "\u001b[1;32mc:\\Users\\vegaarellano\\Documents\\Gitlab\\instancesegmentation\\tests\\eai.ipynb Zelle 7\u001b[0m in \u001b[0;36m<cell line: 2>\u001b[1;34m()\u001b[0m\n\u001b[0;32m      <a href='vscode-notebook-cell:/c%3A/Users/vegaarellano/Documents/Gitlab/instancesegmentation/tests/eai.ipynb#ch0000005?line=2'>3</a>\u001b[0m explainer \u001b[39m=\u001b[39m VisionExplainer(\n\u001b[0;32m      <a href='vscode-notebook-cell:/c%3A/Users/vegaarellano/Documents/Gitlab/instancesegmentation/tests/eai.ipynb#ch0000005?line=3'>4</a>\u001b[0m     explainers\u001b[39m=\u001b[39m[\u001b[39m\"\u001b[39m\u001b[39mlime\u001b[39m\u001b[39m\"\u001b[39m],\n\u001b[0;32m      <a href='vscode-notebook-cell:/c%3A/Users/vegaarellano/Documents/Gitlab/instancesegmentation/tests/eai.ipynb#ch0000005?line=4'>5</a>\u001b[0m     mode\u001b[39m=\u001b[39m\u001b[39m\"\u001b[39m\u001b[39mclassification\u001b[39m\u001b[39m\"\u001b[39m,\n\u001b[1;32m   (...)\u001b[0m\n\u001b[0;32m     <a href='vscode-notebook-cell:/c%3A/Users/vegaarellano/Documents/Gitlab/instancesegmentation/tests/eai.ipynb#ch0000005?line=12'>13</a>\u001b[0m     \u001b[39m# }\u001b[39;00m\n\u001b[0;32m     <a href='vscode-notebook-cell:/c%3A/Users/vegaarellano/Documents/Gitlab/instancesegmentation/tests/eai.ipynb#ch0000005?line=13'>14</a>\u001b[0m )\n\u001b[0;32m     <a href='vscode-notebook-cell:/c%3A/Users/vegaarellano/Documents/Gitlab/instancesegmentation/tests/eai.ipynb#ch0000005?line=14'>15</a>\u001b[0m \u001b[39m# Generate explanations\u001b[39;00m\n\u001b[1;32m---> <a href='vscode-notebook-cell:/c%3A/Users/vegaarellano/Documents/Gitlab/instancesegmentation/tests/eai.ipynb#ch0000005?line=15'>16</a>\u001b[0m local_explanations \u001b[39m=\u001b[39m explainer\u001b[39m.\u001b[39;49mexplain(img)\n",
      "File \u001b[1;32mc:\\Users\\vegaarellano\\Documents\\Gitlab\\instancesegmentation\\pytorch-img-seg\\lib\\site-packages\\omnixai\\explainers\\base.py:207\u001b[0m, in \u001b[0;36mAutoExplainerBase.explain\u001b[1;34m(self, X, params)\u001b[0m\n\u001b[0;32m    205\u001b[0m     params \u001b[39m=\u001b[39m {}\n\u001b[0;32m    206\u001b[0m \u001b[39mif\u001b[39;00m \u001b[39mself\u001b[39m\u001b[39m.\u001b[39mmode \u001b[39m!=\u001b[39m \u001b[39m\"\u001b[39m\u001b[39mdata_analysis\u001b[39m\u001b[39m\"\u001b[39m:\n\u001b[1;32m--> 207\u001b[0m     explanations \u001b[39m=\u001b[39m OrderedDict({\u001b[39m\"\u001b[39m\u001b[39mpredict\u001b[39m\u001b[39m\"\u001b[39m: \u001b[39mself\u001b[39;49m\u001b[39m.\u001b[39;49m_predict(X)})\n\u001b[0;32m    208\u001b[0m \u001b[39melse\u001b[39;00m:\n\u001b[0;32m    209\u001b[0m     explanations \u001b[39m=\u001b[39m OrderedDict()\n",
      "File \u001b[1;32mc:\\Users\\vegaarellano\\Documents\\Gitlab\\instancesegmentation\\pytorch-img-seg\\lib\\site-packages\\omnixai\\explainers\\base.py:185\u001b[0m, in \u001b[0;36mAutoExplainerBase._predict\u001b[1;34m(self, X)\u001b[0m\n\u001b[0;32m    178\u001b[0m \u001b[39mdef\u001b[39;00m \u001b[39m_predict\u001b[39m(\u001b[39mself\u001b[39m, X):\n\u001b[0;32m    179\u001b[0m     \u001b[39m\"\"\"\u001b[39;00m\n\u001b[0;32m    180\u001b[0m \u001b[39m    Gets the predictions given input instances.\u001b[39;00m\n\u001b[0;32m    181\u001b[0m \n\u001b[0;32m    182\u001b[0m \u001b[39m    :return: The predictions results.\u001b[39;00m\n\u001b[0;32m    183\u001b[0m \u001b[39m    :rtype: PredictedResults\u001b[39;00m\n\u001b[0;32m    184\u001b[0m \u001b[39m    \"\"\"\u001b[39;00m\n\u001b[1;32m--> 185\u001b[0m     predictions \u001b[39m=\u001b[39m \u001b[39mself\u001b[39;49m\u001b[39m.\u001b[39;49mpredict_function(X)\n\u001b[0;32m    186\u001b[0m     \u001b[39mif\u001b[39;00m \u001b[39mnot\u001b[39;00m \u001b[39misinstance\u001b[39m(predictions, np\u001b[39m.\u001b[39mndarray):\n\u001b[0;32m    187\u001b[0m         \u001b[39mtry\u001b[39;00m:\n",
      "File \u001b[1;32mc:\\Users\\vegaarellano\\Documents\\Gitlab\\instancesegmentation\\pytorch-img-seg\\lib\\site-packages\\omnixai\\utils\\misc.py:210\u001b[0m, in \u001b[0;36mbuild_predict_function.<locals>._predict\u001b[1;34m(x)\u001b[0m\n\u001b[0;32m    208\u001b[0m \u001b[39mif\u001b[39;00m \u001b[39mnot\u001b[39;00m \u001b[39misinstance\u001b[39m(inputs, \u001b[39mtuple\u001b[39m):\n\u001b[0;32m    209\u001b[0m     inputs \u001b[39m=\u001b[39m (inputs,)\n\u001b[1;32m--> 210\u001b[0m \u001b[39mreturn\u001b[39;00m tensor_to_numpy(postprocess(predict_func(\u001b[39m*\u001b[39;49minputs)))\n",
      "File \u001b[1;32mc:\\Users\\vegaarellano\\Documents\\Gitlab\\instancesegmentation\\pytorch-img-seg\\lib\\site-packages\\torch\\nn\\modules\\module.py:1110\u001b[0m, in \u001b[0;36mModule._call_impl\u001b[1;34m(self, *input, **kwargs)\u001b[0m\n\u001b[0;32m   1106\u001b[0m \u001b[39m# If we don't have any hooks, we want to skip the rest of the logic in\u001b[39;00m\n\u001b[0;32m   1107\u001b[0m \u001b[39m# this function, and just call forward.\u001b[39;00m\n\u001b[0;32m   1108\u001b[0m \u001b[39mif\u001b[39;00m \u001b[39mnot\u001b[39;00m (\u001b[39mself\u001b[39m\u001b[39m.\u001b[39m_backward_hooks \u001b[39mor\u001b[39;00m \u001b[39mself\u001b[39m\u001b[39m.\u001b[39m_forward_hooks \u001b[39mor\u001b[39;00m \u001b[39mself\u001b[39m\u001b[39m.\u001b[39m_forward_pre_hooks \u001b[39mor\u001b[39;00m _global_backward_hooks\n\u001b[0;32m   1109\u001b[0m         \u001b[39mor\u001b[39;00m _global_forward_hooks \u001b[39mor\u001b[39;00m _global_forward_pre_hooks):\n\u001b[1;32m-> 1110\u001b[0m     \u001b[39mreturn\u001b[39;00m forward_call(\u001b[39m*\u001b[39m\u001b[39minput\u001b[39m, \u001b[39m*\u001b[39m\u001b[39m*\u001b[39mkwargs)\n\u001b[0;32m   1111\u001b[0m \u001b[39m# Do not call functions when jit is used\u001b[39;00m\n\u001b[0;32m   1112\u001b[0m full_backward_hooks, non_full_backward_hooks \u001b[39m=\u001b[39m [], []\n",
      "File \u001b[1;32mc:\\Users\\vegaarellano\\Documents\\Gitlab\\instancesegmentation\\pytorch-img-seg\\lib\\site-packages\\monai\\networks\\nets\\unet.py:281\u001b[0m, in \u001b[0;36mUNet.forward\u001b[1;34m(self, x)\u001b[0m\n\u001b[0;32m    280\u001b[0m \u001b[39mdef\u001b[39;00m \u001b[39mforward\u001b[39m(\u001b[39mself\u001b[39m, x: torch\u001b[39m.\u001b[39mTensor) \u001b[39m-\u001b[39m\u001b[39m>\u001b[39m torch\u001b[39m.\u001b[39mTensor:\n\u001b[1;32m--> 281\u001b[0m     x \u001b[39m=\u001b[39m \u001b[39mself\u001b[39;49m\u001b[39m.\u001b[39;49mmodel(x)\n\u001b[0;32m    282\u001b[0m     \u001b[39mreturn\u001b[39;00m x\n",
      "File \u001b[1;32mc:\\Users\\vegaarellano\\Documents\\Gitlab\\instancesegmentation\\pytorch-img-seg\\lib\\site-packages\\torch\\nn\\modules\\module.py:1110\u001b[0m, in \u001b[0;36mModule._call_impl\u001b[1;34m(self, *input, **kwargs)\u001b[0m\n\u001b[0;32m   1106\u001b[0m \u001b[39m# If we don't have any hooks, we want to skip the rest of the logic in\u001b[39;00m\n\u001b[0;32m   1107\u001b[0m \u001b[39m# this function, and just call forward.\u001b[39;00m\n\u001b[0;32m   1108\u001b[0m \u001b[39mif\u001b[39;00m \u001b[39mnot\u001b[39;00m (\u001b[39mself\u001b[39m\u001b[39m.\u001b[39m_backward_hooks \u001b[39mor\u001b[39;00m \u001b[39mself\u001b[39m\u001b[39m.\u001b[39m_forward_hooks \u001b[39mor\u001b[39;00m \u001b[39mself\u001b[39m\u001b[39m.\u001b[39m_forward_pre_hooks \u001b[39mor\u001b[39;00m _global_backward_hooks\n\u001b[0;32m   1109\u001b[0m         \u001b[39mor\u001b[39;00m _global_forward_hooks \u001b[39mor\u001b[39;00m _global_forward_pre_hooks):\n\u001b[1;32m-> 1110\u001b[0m     \u001b[39mreturn\u001b[39;00m forward_call(\u001b[39m*\u001b[39m\u001b[39minput\u001b[39m, \u001b[39m*\u001b[39m\u001b[39m*\u001b[39mkwargs)\n\u001b[0;32m   1111\u001b[0m \u001b[39m# Do not call functions when jit is used\u001b[39;00m\n\u001b[0;32m   1112\u001b[0m full_backward_hooks, non_full_backward_hooks \u001b[39m=\u001b[39m [], []\n",
      "File \u001b[1;32mc:\\Users\\vegaarellano\\Documents\\Gitlab\\instancesegmentation\\pytorch-img-seg\\lib\\site-packages\\torch\\nn\\modules\\container.py:141\u001b[0m, in \u001b[0;36mSequential.forward\u001b[1;34m(self, input)\u001b[0m\n\u001b[0;32m    139\u001b[0m \u001b[39mdef\u001b[39;00m \u001b[39mforward\u001b[39m(\u001b[39mself\u001b[39m, \u001b[39minput\u001b[39m):\n\u001b[0;32m    140\u001b[0m     \u001b[39mfor\u001b[39;00m module \u001b[39min\u001b[39;00m \u001b[39mself\u001b[39m:\n\u001b[1;32m--> 141\u001b[0m         \u001b[39minput\u001b[39m \u001b[39m=\u001b[39m module(\u001b[39minput\u001b[39;49m)\n\u001b[0;32m    142\u001b[0m     \u001b[39mreturn\u001b[39;00m \u001b[39minput\u001b[39m\n",
      "File \u001b[1;32mc:\\Users\\vegaarellano\\Documents\\Gitlab\\instancesegmentation\\pytorch-img-seg\\lib\\site-packages\\torch\\nn\\modules\\module.py:1110\u001b[0m, in \u001b[0;36mModule._call_impl\u001b[1;34m(self, *input, **kwargs)\u001b[0m\n\u001b[0;32m   1106\u001b[0m \u001b[39m# If we don't have any hooks, we want to skip the rest of the logic in\u001b[39;00m\n\u001b[0;32m   1107\u001b[0m \u001b[39m# this function, and just call forward.\u001b[39;00m\n\u001b[0;32m   1108\u001b[0m \u001b[39mif\u001b[39;00m \u001b[39mnot\u001b[39;00m (\u001b[39mself\u001b[39m\u001b[39m.\u001b[39m_backward_hooks \u001b[39mor\u001b[39;00m \u001b[39mself\u001b[39m\u001b[39m.\u001b[39m_forward_hooks \u001b[39mor\u001b[39;00m \u001b[39mself\u001b[39m\u001b[39m.\u001b[39m_forward_pre_hooks \u001b[39mor\u001b[39;00m _global_backward_hooks\n\u001b[0;32m   1109\u001b[0m         \u001b[39mor\u001b[39;00m _global_forward_hooks \u001b[39mor\u001b[39;00m _global_forward_pre_hooks):\n\u001b[1;32m-> 1110\u001b[0m     \u001b[39mreturn\u001b[39;00m forward_call(\u001b[39m*\u001b[39m\u001b[39minput\u001b[39m, \u001b[39m*\u001b[39m\u001b[39m*\u001b[39mkwargs)\n\u001b[0;32m   1111\u001b[0m \u001b[39m# Do not call functions when jit is used\u001b[39;00m\n\u001b[0;32m   1112\u001b[0m full_backward_hooks, non_full_backward_hooks \u001b[39m=\u001b[39m [], []\n",
      "File \u001b[1;32mc:\\Users\\vegaarellano\\Documents\\Gitlab\\instancesegmentation\\pytorch-img-seg\\lib\\site-packages\\monai\\networks\\blocks\\convolutions.py:324\u001b[0m, in \u001b[0;36mResidualUnit.forward\u001b[1;34m(self, x)\u001b[0m\n\u001b[0;32m    323\u001b[0m \u001b[39mdef\u001b[39;00m \u001b[39mforward\u001b[39m(\u001b[39mself\u001b[39m, x: torch\u001b[39m.\u001b[39mTensor) \u001b[39m-\u001b[39m\u001b[39m>\u001b[39m torch\u001b[39m.\u001b[39mTensor:\n\u001b[1;32m--> 324\u001b[0m     res: torch\u001b[39m.\u001b[39mTensor \u001b[39m=\u001b[39m \u001b[39mself\u001b[39;49m\u001b[39m.\u001b[39;49mresidual(x)  \u001b[39m# create the additive residual from x\u001b[39;00m\n\u001b[0;32m    325\u001b[0m     cx: torch\u001b[39m.\u001b[39mTensor \u001b[39m=\u001b[39m \u001b[39mself\u001b[39m\u001b[39m.\u001b[39mconv(x)  \u001b[39m# apply x to sequence of operations\u001b[39;00m\n\u001b[0;32m    326\u001b[0m     \u001b[39mreturn\u001b[39;00m cx \u001b[39m+\u001b[39m res\n",
      "File \u001b[1;32mc:\\Users\\vegaarellano\\Documents\\Gitlab\\instancesegmentation\\pytorch-img-seg\\lib\\site-packages\\torch\\nn\\modules\\module.py:1110\u001b[0m, in \u001b[0;36mModule._call_impl\u001b[1;34m(self, *input, **kwargs)\u001b[0m\n\u001b[0;32m   1106\u001b[0m \u001b[39m# If we don't have any hooks, we want to skip the rest of the logic in\u001b[39;00m\n\u001b[0;32m   1107\u001b[0m \u001b[39m# this function, and just call forward.\u001b[39;00m\n\u001b[0;32m   1108\u001b[0m \u001b[39mif\u001b[39;00m \u001b[39mnot\u001b[39;00m (\u001b[39mself\u001b[39m\u001b[39m.\u001b[39m_backward_hooks \u001b[39mor\u001b[39;00m \u001b[39mself\u001b[39m\u001b[39m.\u001b[39m_forward_hooks \u001b[39mor\u001b[39;00m \u001b[39mself\u001b[39m\u001b[39m.\u001b[39m_forward_pre_hooks \u001b[39mor\u001b[39;00m _global_backward_hooks\n\u001b[0;32m   1109\u001b[0m         \u001b[39mor\u001b[39;00m _global_forward_hooks \u001b[39mor\u001b[39;00m _global_forward_pre_hooks):\n\u001b[1;32m-> 1110\u001b[0m     \u001b[39mreturn\u001b[39;00m forward_call(\u001b[39m*\u001b[39m\u001b[39minput\u001b[39m, \u001b[39m*\u001b[39m\u001b[39m*\u001b[39mkwargs)\n\u001b[0;32m   1111\u001b[0m \u001b[39m# Do not call functions when jit is used\u001b[39;00m\n\u001b[0;32m   1112\u001b[0m full_backward_hooks, non_full_backward_hooks \u001b[39m=\u001b[39m [], []\n",
      "File \u001b[1;32mc:\\Users\\vegaarellano\\Documents\\Gitlab\\instancesegmentation\\pytorch-img-seg\\lib\\site-packages\\torch\\nn\\modules\\conv.py:447\u001b[0m, in \u001b[0;36mConv2d.forward\u001b[1;34m(self, input)\u001b[0m\n\u001b[0;32m    446\u001b[0m \u001b[39mdef\u001b[39;00m \u001b[39mforward\u001b[39m(\u001b[39mself\u001b[39m, \u001b[39minput\u001b[39m: Tensor) \u001b[39m-\u001b[39m\u001b[39m>\u001b[39m Tensor:\n\u001b[1;32m--> 447\u001b[0m     \u001b[39mreturn\u001b[39;00m \u001b[39mself\u001b[39;49m\u001b[39m.\u001b[39;49m_conv_forward(\u001b[39minput\u001b[39;49m, \u001b[39mself\u001b[39;49m\u001b[39m.\u001b[39;49mweight, \u001b[39mself\u001b[39;49m\u001b[39m.\u001b[39;49mbias)\n",
      "File \u001b[1;32mc:\\Users\\vegaarellano\\Documents\\Gitlab\\instancesegmentation\\pytorch-img-seg\\lib\\site-packages\\torch\\nn\\modules\\conv.py:443\u001b[0m, in \u001b[0;36mConv2d._conv_forward\u001b[1;34m(self, input, weight, bias)\u001b[0m\n\u001b[0;32m    439\u001b[0m \u001b[39mif\u001b[39;00m \u001b[39mself\u001b[39m\u001b[39m.\u001b[39mpadding_mode \u001b[39m!=\u001b[39m \u001b[39m'\u001b[39m\u001b[39mzeros\u001b[39m\u001b[39m'\u001b[39m:\n\u001b[0;32m    440\u001b[0m     \u001b[39mreturn\u001b[39;00m F\u001b[39m.\u001b[39mconv2d(F\u001b[39m.\u001b[39mpad(\u001b[39minput\u001b[39m, \u001b[39mself\u001b[39m\u001b[39m.\u001b[39m_reversed_padding_repeated_twice, mode\u001b[39m=\u001b[39m\u001b[39mself\u001b[39m\u001b[39m.\u001b[39mpadding_mode),\n\u001b[0;32m    441\u001b[0m                     weight, bias, \u001b[39mself\u001b[39m\u001b[39m.\u001b[39mstride,\n\u001b[0;32m    442\u001b[0m                     _pair(\u001b[39m0\u001b[39m), \u001b[39mself\u001b[39m\u001b[39m.\u001b[39mdilation, \u001b[39mself\u001b[39m\u001b[39m.\u001b[39mgroups)\n\u001b[1;32m--> 443\u001b[0m \u001b[39mreturn\u001b[39;00m F\u001b[39m.\u001b[39;49mconv2d(\u001b[39minput\u001b[39;49m, weight, bias, \u001b[39mself\u001b[39;49m\u001b[39m.\u001b[39;49mstride,\n\u001b[0;32m    444\u001b[0m                 \u001b[39mself\u001b[39;49m\u001b[39m.\u001b[39;49mpadding, \u001b[39mself\u001b[39;49m\u001b[39m.\u001b[39;49mdilation, \u001b[39mself\u001b[39;49m\u001b[39m.\u001b[39;49mgroups)\n",
      "\u001b[1;31mRuntimeError\u001b[0m: Input type (torch.cuda.FloatTensor) and weight type (torch.FloatTensor) should be the same"
     ]
    }
   ],
   "source": [
    "# Initialize a VisionExplainer\n",
    "with torch.no_grad():\n",
    "    explainer = VisionExplainer(\n",
    "        explainers=[\"lime\"],\n",
    "        mode=\"classification\",\n",
    "        model=model,\n",
    "        preprocess=preprocess,\n",
    "        postprocess=postprocess\n",
    "        # params={\n",
    "        #     #\"gradcam\": {\"target_layer\": model.conv_out},\n",
    "        #     #\"gradcam\": {\"target_layer\": model.layer4[-1]}\n",
    "        #     #\"ce\": {\"binary_search_steps\": 2, \"num_iterations\": 5}\n",
    "        # }\n",
    "    )\n",
    "    # Generate explanations\n",
    "    local_explanations = explainer.explain(img)"
   ]
  },
  {
   "cell_type": "code",
   "execution_count": 28,
   "metadata": {},
   "outputs": [
    {
     "data": {
      "text/plain": [
       "<omnixai.explanations.image.mask.MaskExplanation at 0x1a8a06876d0>"
      ]
     },
     "execution_count": 28,
     "metadata": {},
     "output_type": "execute_result"
    }
   ],
   "source": [
    "local_explanations[\"lime\"]"
   ]
  },
  {
   "cell_type": "code",
   "execution_count": 11,
   "metadata": {},
   "outputs": [
    {
     "name": "stdout",
     "output_type": "stream",
     "text": [
      "Grad-CAM results:\n"
     ]
    },
    {
     "data": {
      "application/vnd.plotly.v1+json": {
       "config": {
        "linkText": "Export to plot.ly",
        "plotlyServerURL": "https://plot.ly",
        "showLink": false
       },
       "data": [
        {
         "hovertemplate": "x: %{x}<br>y: %{y}<br>color: [%{z[0]}, %{z[1]}, %{z[2]}]<extra></extra>",
         "name": "0",
         "source": "data:image/png;base64,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",
         "type": "image",
         "xaxis": "x",
         "yaxis": "y"
        },
        {
         "hovertemplate": "x: %{x}<br>y: %{y}<br>color: [%{z[0]}, %{z[1]}, %{z[2]}]<extra></extra>",
         "name": "0",
         "source": "data:image/png;base64,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",
         "type": "image",
         "xaxis": "x2",
         "yaxis": "y2"
        }
       ],
       "layout": {
        "annotations": [
         {
          "font": {
           "size": 16
          },
          "showarrow": false,
          "text": "Overlay",
          "x": 0.225,
          "xanchor": "center",
          "xref": "paper",
          "y": 1,
          "yanchor": "bottom",
          "yref": "paper"
         },
         {
          "font": {
           "size": 16
          },
          "showarrow": false,
          "text": "Positive",
          "x": 0.775,
          "xanchor": "center",
          "xref": "paper",
          "y": 1,
          "yanchor": "bottom",
          "yref": "paper"
         }
        ],
        "template": {
         "data": {
          "bar": [
           {
            "error_x": {
             "color": "#2a3f5f"
            },
            "error_y": {
             "color": "#2a3f5f"
            },
            "marker": {
             "line": {
              "color": "#E5ECF6",
              "width": 0.5
             },
             "pattern": {
              "fillmode": "overlay",
              "size": 10,
              "solidity": 0.2
             }
            },
            "type": "bar"
           }
          ],
          "barpolar": [
           {
            "marker": {
             "line": {
              "color": "#E5ECF6",
              "width": 0.5
             },
             "pattern": {
              "fillmode": "overlay",
              "size": 10,
              "solidity": 0.2
             }
            },
            "type": "barpolar"
           }
          ],
          "carpet": [
           {
            "aaxis": {
             "endlinecolor": "#2a3f5f",
             "gridcolor": "white",
             "linecolor": "white",
             "minorgridcolor": "white",
             "startlinecolor": "#2a3f5f"
            },
            "baxis": {
             "endlinecolor": "#2a3f5f",
             "gridcolor": "white",
             "linecolor": "white",
             "minorgridcolor": "white",
             "startlinecolor": "#2a3f5f"
            },
            "type": "carpet"
           }
          ],
          "choropleth": [
           {
            "colorbar": {
             "outlinewidth": 0,
             "ticks": ""
            },
            "type": "choropleth"
           }
          ],
          "contour": [
           {
            "colorbar": {
             "outlinewidth": 0,
             "ticks": ""
            },
            "colorscale": [
             [
              0,
              "#0d0887"
             ],
             [
              0.1111111111111111,
              "#46039f"
             ],
             [
              0.2222222222222222,
              "#7201a8"
             ],
             [
              0.3333333333333333,
              "#9c179e"
             ],
             [
              0.4444444444444444,
              "#bd3786"
             ],
             [
              0.5555555555555556,
              "#d8576b"
             ],
             [
              0.6666666666666666,
              "#ed7953"
             ],
             [
              0.7777777777777778,
              "#fb9f3a"
             ],
             [
              0.8888888888888888,
              "#fdca26"
             ],
             [
              1,
              "#f0f921"
             ]
            ],
            "type": "contour"
           }
          ],
          "contourcarpet": [
           {
            "colorbar": {
             "outlinewidth": 0,
             "ticks": ""
            },
            "type": "contourcarpet"
           }
          ],
          "heatmap": [
           {
            "colorbar": {
             "outlinewidth": 0,
             "ticks": ""
            },
            "colorscale": [
             [
              0,
              "#0d0887"
             ],
             [
              0.1111111111111111,
              "#46039f"
             ],
             [
              0.2222222222222222,
              "#7201a8"
             ],
             [
              0.3333333333333333,
              "#9c179e"
             ],
             [
              0.4444444444444444,
              "#bd3786"
             ],
             [
              0.5555555555555556,
              "#d8576b"
             ],
             [
              0.6666666666666666,
              "#ed7953"
             ],
             [
              0.7777777777777778,
              "#fb9f3a"
             ],
             [
              0.8888888888888888,
              "#fdca26"
             ],
             [
              1,
              "#f0f921"
             ]
            ],
            "type": "heatmap"
           }
          ],
          "heatmapgl": [
           {
            "colorbar": {
             "outlinewidth": 0,
             "ticks": ""
            },
            "colorscale": [
             [
              0,
              "#0d0887"
             ],
             [
              0.1111111111111111,
              "#46039f"
             ],
             [
              0.2222222222222222,
              "#7201a8"
             ],
             [
              0.3333333333333333,
              "#9c179e"
             ],
             [
              0.4444444444444444,
              "#bd3786"
             ],
             [
              0.5555555555555556,
              "#d8576b"
             ],
             [
              0.6666666666666666,
              "#ed7953"
             ],
             [
              0.7777777777777778,
              "#fb9f3a"
             ],
             [
              0.8888888888888888,
              "#fdca26"
             ],
             [
              1,
              "#f0f921"
             ]
            ],
            "type": "heatmapgl"
           }
          ],
          "histogram": [
           {
            "marker": {
             "pattern": {
              "fillmode": "overlay",
              "size": 10,
              "solidity": 0.2
             }
            },
            "type": "histogram"
           }
          ],
          "histogram2d": [
           {
            "colorbar": {
             "outlinewidth": 0,
             "ticks": ""
            },
            "colorscale": [
             [
              0,
              "#0d0887"
             ],
             [
              0.1111111111111111,
              "#46039f"
             ],
             [
              0.2222222222222222,
              "#7201a8"
             ],
             [
              0.3333333333333333,
              "#9c179e"
             ],
             [
              0.4444444444444444,
              "#bd3786"
             ],
             [
              0.5555555555555556,
              "#d8576b"
             ],
             [
              0.6666666666666666,
              "#ed7953"
             ],
             [
              0.7777777777777778,
              "#fb9f3a"
             ],
             [
              0.8888888888888888,
              "#fdca26"
             ],
             [
              1,
              "#f0f921"
             ]
            ],
            "type": "histogram2d"
           }
          ],
          "histogram2dcontour": [
           {
            "colorbar": {
             "outlinewidth": 0,
             "ticks": ""
            },
            "colorscale": [
             [
              0,
              "#0d0887"
             ],
             [
              0.1111111111111111,
              "#46039f"
             ],
             [
              0.2222222222222222,
              "#7201a8"
             ],
             [
              0.3333333333333333,
              "#9c179e"
             ],
             [
              0.4444444444444444,
              "#bd3786"
             ],
             [
              0.5555555555555556,
              "#d8576b"
             ],
             [
              0.6666666666666666,
              "#ed7953"
             ],
             [
              0.7777777777777778,
              "#fb9f3a"
             ],
             [
              0.8888888888888888,
              "#fdca26"
             ],
             [
              1,
              "#f0f921"
             ]
            ],
            "type": "histogram2dcontour"
           }
          ],
          "mesh3d": [
           {
            "colorbar": {
             "outlinewidth": 0,
             "ticks": ""
            },
            "type": "mesh3d"
           }
          ],
          "parcoords": [
           {
            "line": {
             "colorbar": {
              "outlinewidth": 0,
              "ticks": ""
             }
            },
            "type": "parcoords"
           }
          ],
          "pie": [
           {
            "automargin": true,
            "type": "pie"
           }
          ],
          "scatter": [
           {
            "fillpattern": {
             "fillmode": "overlay",
             "size": 10,
             "solidity": 0.2
            },
            "type": "scatter"
           }
          ],
          "scatter3d": [
           {
            "line": {
             "colorbar": {
              "outlinewidth": 0,
              "ticks": ""
             }
            },
            "marker": {
             "colorbar": {
              "outlinewidth": 0,
              "ticks": ""
             }
            },
            "type": "scatter3d"
           }
          ],
          "scattercarpet": [
           {
            "marker": {
             "colorbar": {
              "outlinewidth": 0,
              "ticks": ""
             }
            },
            "type": "scattercarpet"
           }
          ],
          "scattergeo": [
           {
            "marker": {
             "colorbar": {
              "outlinewidth": 0,
              "ticks": ""
             }
            },
            "type": "scattergeo"
           }
          ],
          "scattergl": [
           {
            "marker": {
             "colorbar": {
              "outlinewidth": 0,
              "ticks": ""
             }
            },
            "type": "scattergl"
           }
          ],
          "scattermapbox": [
           {
            "marker": {
             "colorbar": {
              "outlinewidth": 0,
              "ticks": ""
             }
            },
            "type": "scattermapbox"
           }
          ],
          "scatterpolar": [
           {
            "marker": {
             "colorbar": {
              "outlinewidth": 0,
              "ticks": ""
             }
            },
            "type": "scatterpolar"
           }
          ],
          "scatterpolargl": [
           {
            "marker": {
             "colorbar": {
              "outlinewidth": 0,
              "ticks": ""
             }
            },
            "type": "scatterpolargl"
           }
          ],
          "scatterternary": [
           {
            "marker": {
             "colorbar": {
              "outlinewidth": 0,
              "ticks": ""
             }
            },
            "type": "scatterternary"
           }
          ],
          "surface": [
           {
            "colorbar": {
             "outlinewidth": 0,
             "ticks": ""
            },
            "colorscale": [
             [
              0,
              "#0d0887"
             ],
             [
              0.1111111111111111,
              "#46039f"
             ],
             [
              0.2222222222222222,
              "#7201a8"
             ],
             [
              0.3333333333333333,
              "#9c179e"
             ],
             [
              0.4444444444444444,
              "#bd3786"
             ],
             [
              0.5555555555555556,
              "#d8576b"
             ],
             [
              0.6666666666666666,
              "#ed7953"
             ],
             [
              0.7777777777777778,
              "#fb9f3a"
             ],
             [
              0.8888888888888888,
              "#fdca26"
             ],
             [
              1,
              "#f0f921"
             ]
            ],
            "type": "surface"
           }
          ],
          "table": [
           {
            "cells": {
             "fill": {
              "color": "#EBF0F8"
             },
             "line": {
              "color": "white"
             }
            },
            "header": {
             "fill": {
              "color": "#C8D4E3"
             },
             "line": {
              "color": "white"
             }
            },
            "type": "table"
           }
          ]
         },
         "layout": {
          "annotationdefaults": {
           "arrowcolor": "#2a3f5f",
           "arrowhead": 0,
           "arrowwidth": 1
          },
          "autotypenumbers": "strict",
          "coloraxis": {
           "colorbar": {
            "outlinewidth": 0,
            "ticks": ""
           }
          },
          "colorscale": {
           "diverging": [
            [
             0,
             "#8e0152"
            ],
            [
             0.1,
             "#c51b7d"
            ],
            [
             0.2,
             "#de77ae"
            ],
            [
             0.3,
             "#f1b6da"
            ],
            [
             0.4,
             "#fde0ef"
            ],
            [
             0.5,
             "#f7f7f7"
            ],
            [
             0.6,
             "#e6f5d0"
            ],
            [
             0.7,
             "#b8e186"
            ],
            [
             0.8,
             "#7fbc41"
            ],
            [
             0.9,
             "#4d9221"
            ],
            [
             1,
             "#276419"
            ]
           ],
           "sequential": [
            [
             0,
             "#0d0887"
            ],
            [
             0.1111111111111111,
             "#46039f"
            ],
            [
             0.2222222222222222,
             "#7201a8"
            ],
            [
             0.3333333333333333,
             "#9c179e"
            ],
            [
             0.4444444444444444,
             "#bd3786"
            ],
            [
             0.5555555555555556,
             "#d8576b"
            ],
            [
             0.6666666666666666,
             "#ed7953"
            ],
            [
             0.7777777777777778,
             "#fb9f3a"
            ],
            [
             0.8888888888888888,
             "#fdca26"
            ],
            [
             1,
             "#f0f921"
            ]
           ],
           "sequentialminus": [
            [
             0,
             "#0d0887"
            ],
            [
             0.1111111111111111,
             "#46039f"
            ],
            [
             0.2222222222222222,
             "#7201a8"
            ],
            [
             0.3333333333333333,
             "#9c179e"
            ],
            [
             0.4444444444444444,
             "#bd3786"
            ],
            [
             0.5555555555555556,
             "#d8576b"
            ],
            [
             0.6666666666666666,
             "#ed7953"
            ],
            [
             0.7777777777777778,
             "#fb9f3a"
            ],
            [
             0.8888888888888888,
             "#fdca26"
            ],
            [
             1,
             "#f0f921"
            ]
           ]
          },
          "colorway": [
           "#636efa",
           "#EF553B",
           "#00cc96",
           "#ab63fa",
           "#FFA15A",
           "#19d3f3",
           "#FF6692",
           "#B6E880",
           "#FF97FF",
           "#FECB52"
          ],
          "font": {
           "color": "#2a3f5f"
          },
          "geo": {
           "bgcolor": "white",
           "lakecolor": "white",
           "landcolor": "#E5ECF6",
           "showlakes": true,
           "showland": true,
           "subunitcolor": "white"
          },
          "hoverlabel": {
           "align": "left"
          },
          "hovermode": "closest",
          "mapbox": {
           "style": "light"
          },
          "paper_bgcolor": "white",
          "plot_bgcolor": "#E5ECF6",
          "polar": {
           "angularaxis": {
            "gridcolor": "white",
            "linecolor": "white",
            "ticks": ""
           },
           "bgcolor": "#E5ECF6",
           "radialaxis": {
            "gridcolor": "white",
            "linecolor": "white",
            "ticks": ""
           }
          },
          "scene": {
           "xaxis": {
            "backgroundcolor": "#E5ECF6",
            "gridcolor": "white",
            "gridwidth": 2,
            "linecolor": "white",
            "showbackground": true,
            "ticks": "",
            "zerolinecolor": "white"
           },
           "yaxis": {
            "backgroundcolor": "#E5ECF6",
            "gridcolor": "white",
            "gridwidth": 2,
            "linecolor": "white",
            "showbackground": true,
            "ticks": "",
            "zerolinecolor": "white"
           },
           "zaxis": {
            "backgroundcolor": "#E5ECF6",
            "gridcolor": "white",
            "gridwidth": 2,
            "linecolor": "white",
            "showbackground": true,
            "ticks": "",
            "zerolinecolor": "white"
           }
          },
          "shapedefaults": {
           "line": {
            "color": "#2a3f5f"
           }
          },
          "ternary": {
           "aaxis": {
            "gridcolor": "white",
            "linecolor": "white",
            "ticks": ""
           },
           "baxis": {
            "gridcolor": "white",
            "linecolor": "white",
            "ticks": ""
           },
           "bgcolor": "#E5ECF6",
           "caxis": {
            "gridcolor": "white",
            "linecolor": "white",
            "ticks": ""
           }
          },
          "title": {
           "x": 0.05
          },
          "xaxis": {
           "automargin": true,
           "gridcolor": "white",
           "linecolor": "white",
           "ticks": "",
           "title": {
            "standoff": 15
           },
           "zerolinecolor": "white",
           "zerolinewidth": 2
          },
          "yaxis": {
           "automargin": true,
           "gridcolor": "white",
           "linecolor": "white",
           "ticks": "",
           "title": {
            "standoff": 15
           },
           "zerolinecolor": "white",
           "zerolinewidth": 2
          }
         }
        },
        "xaxis": {
         "anchor": "y",
         "domain": [
          0,
          0.45
         ],
         "showticklabels": false,
         "visible": false
        },
        "xaxis2": {
         "anchor": "y2",
         "domain": [
          0.55,
          1
         ],
         "showticklabels": false,
         "visible": false
        },
        "yaxis": {
         "anchor": "x",
         "domain": [
          0,
          1
         ],
         "showticklabels": false,
         "visible": false
        },
        "yaxis2": {
         "anchor": "x2",
         "domain": [
          0,
          1
         ],
         "showticklabels": false,
         "visible": false
        }
       }
      }
     },
     "metadata": {},
     "output_type": "display_data"
    }
   ],
   "source": [
    "index=0\n",
    "idx2label = \"Stroke Detection\"\n",
    "print(\"Grad-CAM results:\")\n",
    "local_explanations[\"gradcam\"].ipython_plot(index, class_names=idx2label)\n",
    "#print(\"LIME results:\")\n",
    "#local_explanations[\"lime\"].ipython_plot(index, class_names=idx2label)\n",
    "#print(\"Integrated-gradient results:\")\n",
    "#local_explanations[\"ig\"].ipython_plot(index, class_names=idx2label)\n",
    "#print(\"Counterfactual results:\")\n",
    "#local_explanations[\"ce\"].ipython_plot(index, class_names=idx2label)"
   ]
  }
 ],
 "metadata": {
  "kernelspec": {
   "display_name": "Python 3.10.4 ('pytorch-img-seg': venv)",
   "language": "python",
   "name": "python3"
  },
  "language_info": {
   "codemirror_mode": {
    "name": "ipython",
    "version": 3
   },
   "file_extension": ".py",
   "mimetype": "text/x-python",
   "name": "python",
   "nbconvert_exporter": "python",
   "pygments_lexer": "ipython3",
   "version": "3.10.4"
  },
  "orig_nbformat": 4,
  "vscode": {
   "interpreter": {
    "hash": "eb640731e92c903421fc8e3a24c104902d308b890b29b3d89d8138718d713a46"
   }
  }
 },
 "nbformat": 4,
 "nbformat_minor": 2
}
