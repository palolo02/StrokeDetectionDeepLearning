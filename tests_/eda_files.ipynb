{
 "cells": [
  {
   "cell_type": "code",
   "execution_count": 1,
   "metadata": {},
   "outputs": [
    {
     "name": "stderr",
     "output_type": "stream",
     "text": [
      "c:\\Users\\vegaarellano\\Anaconda3\\envs\\python-pytorch-gpu\\lib\\site-packages\\tqdm\\auto.py:22: TqdmWarning: IProgress not found. Please update jupyter and ipywidgets. See https://ipywidgets.readthedocs.io/en/stable/user_install.html\n",
      "  from .autonotebook import tqdm as notebook_tqdm\n"
     ]
    }
   ],
   "source": [
    "import nibabel as nib\n",
    "import numpy as np\n",
    "import torch\n",
    "import napari\n",
    "import pandas as pd\n",
    "import os\n",
    "import matplotlib.pyplot as plt"
   ]
  },
  {
   "cell_type": "code",
   "execution_count": 2,
   "metadata": {},
   "outputs": [],
   "source": [
    "viewer = napari.Viewer()"
   ]
  },
  {
   "cell_type": "code",
   "execution_count": 5,
   "metadata": {},
   "outputs": [],
   "source": [
    "\n",
    "# Display the original image\n",
    "files = [\n",
    "        \"../dataset/train/images/sub-r035s014_ses-1_T1w.nii.gz\",\n",
    "        \"../dataset/train/masks/sub-r035s014_ses-1_space-orig_label-L_desc-T1lesion_mask.nii.gz\"\n",
    "]\n",
    "#prediction=\"predictions/result_1_2022-04-26.nii\"\n",
    "for file in files:\n",
    "    test_load = nib.load(file)\n",
    "    #test_load = nib.load(original)\n",
    "    input_image = test_load.get_fdata() # last dimension is depth\n",
    "    if \"_mask\" in file:\n",
    "        viewer.add_image(np.transpose(input_image, axes=[2,0,1]), name=\"Mask\", blending=\"additive\", colormap=\"red\" )\n",
    "    else:\n",
    "        viewer.add_image(np.transpose(input_image, axes=[2,0,1]), name=\"Original\")\n",
    "    \n",
    "    input_image = np.transpose(input_image, (0,1,2))"
   ]
  },
  {
   "cell_type": "code",
   "execution_count": 93,
   "metadata": {},
   "outputs": [
    {
     "data": {
      "text/plain": [
       "(192, 512, 512)"
      ]
     },
     "execution_count": 93,
     "metadata": {},
     "output_type": "execute_result"
    }
   ],
   "source": [
    "input_image.shape"
   ]
  },
  {
   "cell_type": "code",
   "execution_count": 2,
   "metadata": {},
   "outputs": [],
   "source": [
    "\n",
    "# Display the original image\n",
    "def readOneFile(pathlib):\n",
    "    test_load = nib.load(pathlib)\n",
    "    input_image = test_load.get_fdata() # last dimension is depth\n",
    "    #viewer.add_image(np.transpose(input_image, axes=[2,0,1]), name=\"Mask\")\n",
    "    input_image = torch.from_numpy(input_image)\n",
    "    depth = input_image.shape[2]\n",
    "    file_with_mask = 0\n",
    "    flag_init = True\n",
    "    start_index = 0\n",
    "    end_index = 0\n",
    "    for i in range(depth):   \n",
    "        if torch.sum(input_image[:,:,i]) > 0:\n",
    "            file_with_mask += 1\n",
    "            #Detect first occurrence in the mask\n",
    "            if flag_init:\n",
    "                flag_init = False\n",
    "                start_index = i\n",
    "                end_index += start_index\n",
    "            else:\n",
    "                end_index += 1\n",
    "    #image_range = end_index - start_index    \n",
    "    return file, depth, file_with_mask, start_index, end_index\n"
   ]
  },
  {
   "cell_type": "code",
   "execution_count": 3,
   "metadata": {},
   "outputs": [],
   "source": [
    "def removeEmptyData(imgPathLib, maskPathLib):\n",
    "    \"\"\"Clean empty sequences of patients \"\"\"  \n",
    "    img_temp = nib.load(imgPathLib)\n",
    "    print(img_temp)\n",
    "    img = torch.from_numpy(img_temp.get_fdata()) # last dimension is depth    \n",
    "    mask = torch.from_numpy(nib.load(maskPathLib).get_fdata()) # last dimension is depth\n",
    "    # print(img.shape)\n",
    "    # print(mask.shape)\n",
    "    assert img.shape == mask.shape\n",
    "    img_temp = []\n",
    "    mask_temp = []\n",
    "    depth = input_image.shape[2]\n",
    "    for i in range(depth):\n",
    "        # If there is data, we save images and mask\n",
    "        #print(f\"{i} Sum:{torch.sum(img[:,:,i])} Max: {torch.max(img[:,:,i])} Min: {torch.min(img[:,:,i])}\")\n",
    "        if torch.max(img[:,:,i]) > 100:\n",
    "            img_temp.append(torch.unsqueeze(img[:,:,i],dim=0))\n",
    "            mask_temp.append(torch.unsqueeze(mask[:,:,i],dim=0))\n",
    "    #print(img_temp[0].shape)\n",
    "    final_img = torch.concat(img_temp, dim=0)\n",
    "    final_mask =  torch.concat(mask_temp,dim=0)\n",
    "    #print(final_img.shape)\n",
    "    viewer.add_image(np.transpose(final_img.numpy(), axes=[0,1,2]), name=\"Img\")\n",
    "    viewer.add_image(np.transpose(final_mask.numpy(), axes=[0,1,2]), name=\"Mask\")\n",
    "    clipped_img = nib.Nifti1Image(final_img, img_temp.affine, img_temp.header)\n",
    "    #clipped_img = nib.Nifti1Image(final_img, img.affine, img.header)\n",
    "    nib.save(clipped_img, imgPathLib.replace(f\"{imgPathLib}.nii.gz\",\"v2.nii.gz\"))\n",
    "    #nib.save(final_mask, imgPathLib.replace(f\"{maskPathLib}_mask.nii.gz\",\"v2_mask.nii.gz\"))\n",
    "    return "
   ]
  },
  {
   "cell_type": "code",
   "execution_count": 124,
   "metadata": {},
   "outputs": [
    {
     "name": "stdout",
     "output_type": "stream",
     "text": [
      "<class 'nibabel.nifti1.Nifti1Image'>\n",
      "data shape (192, 512, 512)\n",
      "affine: \n",
      "[[-9.99500334e-01 -1.12824254e-02  5.23287803e-03  9.36271286e+01]\n",
      " [-2.25596949e-02  4.99872684e-01  1.00249381e-04 -1.01103378e+02]\n",
      " [ 1.04656238e-02  1.78562350e-05  4.99972612e-01 -1.37645615e+02]\n",
      " [ 0.00000000e+00  0.00000000e+00  0.00000000e+00  1.00000000e+00]]\n",
      "metadata:\n",
      "<class 'nibabel.nifti1.Nifti1Header'> object, endian='<'\n",
      "sizeof_hdr      : 348\n",
      "data_type       : b''\n",
      "db_name         : b''\n",
      "extents         : 0\n",
      "session_error   : 0\n",
      "regular         : b'r'\n",
      "dim_info        : 0\n",
      "dim             : [  3 192 512 512   1   1   1   1]\n",
      "intent_p1       : 0.0\n",
      "intent_p2       : 0.0\n",
      "intent_p3       : 0.0\n",
      "intent_code     : none\n",
      "datatype        : int16\n",
      "bitpix          : 16\n",
      "slice_start     : 0\n",
      "pixdim          : [-1.         0.9998097  0.5        0.5        0.         0.\n",
      "  0.         0.       ]\n",
      "vox_offset      : 0.0\n",
      "scl_slope       : nan\n",
      "scl_inter       : nan\n",
      "slice_end       : 0\n",
      "slice_code      : unknown\n",
      "xyzt_units      : 10\n",
      "cal_max         : 0.0\n",
      "cal_min         : 0.0\n",
      "slice_duration  : 0.0\n",
      "toffset         : 0.0\n",
      "glmax           : 0\n",
      "glmin           : 0\n",
      "descrip         : b'5.0.10'\n",
      "aux_file        : b''\n",
      "qform_code      : scanner\n",
      "sform_code      : scanner\n",
      "quatern_b       : 0.011283083\n",
      "quatern_c       : -0.99992263\n",
      "quatern_d       : 4.1199757e-05\n",
      "qoffset_x       : 93.62713\n",
      "qoffset_y       : -101.10338\n",
      "qoffset_z       : -137.64561\n",
      "srow_x          : [-9.9950033e-01 -1.1282425e-02  5.2328780e-03  9.3627129e+01]\n",
      "srow_y          : [-2.2559695e-02  4.9987268e-01  1.0024938e-04 -1.0110338e+02]\n",
      "srow_z          : [ 1.0465624e-02  1.7856235e-05  4.9997261e-01 -1.3764561e+02]\n",
      "intent_name     : b''\n",
      "magic           : b'n+1'\n"
     ]
    },
    {
     "ename": "AttributeError",
     "evalue": "'list' object has no attribute 'affine'",
     "output_type": "error",
     "traceback": [
      "\u001b[1;31m---------------------------------------------------------------------------\u001b[0m",
      "\u001b[1;31mAttributeError\u001b[0m                            Traceback (most recent call last)",
      "\u001b[1;32mc:\\Users\\vegaarellano\\Documents\\Gitlab\\instancesegmentation\\tests\\eda_files.ipynb Cell 7'\u001b[0m in \u001b[0;36m<cell line: 1>\u001b[1;34m()\u001b[0m\n\u001b[1;32m----> <a href='vscode-notebook-cell:/c%3A/Users/vegaarellano/Documents/Gitlab/instancesegmentation/tests/eda_files.ipynb#ch0000016?line=0'>1</a>\u001b[0m removeEmptyData(files[\u001b[39m0\u001b[39;49m], files[\u001b[39m1\u001b[39;49m])\n",
      "\u001b[1;32mc:\\Users\\vegaarellano\\Documents\\Gitlab\\instancesegmentation\\tests\\eda_files.ipynb Cell 6'\u001b[0m in \u001b[0;36mremoveEmptyData\u001b[1;34m(imgPathLib, maskPathLib)\u001b[0m\n\u001b[0;32m     <a href='vscode-notebook-cell:/c%3A/Users/vegaarellano/Documents/Gitlab/instancesegmentation/tests/eda_files.ipynb#ch0000015?line=22'>23</a>\u001b[0m viewer\u001b[39m.\u001b[39madd_image(np\u001b[39m.\u001b[39mtranspose(final_img\u001b[39m.\u001b[39mnumpy(), axes\u001b[39m=\u001b[39m[\u001b[39m0\u001b[39m,\u001b[39m1\u001b[39m,\u001b[39m2\u001b[39m]), name\u001b[39m=\u001b[39m\u001b[39m\"\u001b[39m\u001b[39mImg\u001b[39m\u001b[39m\"\u001b[39m)\n\u001b[0;32m     <a href='vscode-notebook-cell:/c%3A/Users/vegaarellano/Documents/Gitlab/instancesegmentation/tests/eda_files.ipynb#ch0000015?line=23'>24</a>\u001b[0m viewer\u001b[39m.\u001b[39madd_image(np\u001b[39m.\u001b[39mtranspose(final_mask\u001b[39m.\u001b[39mnumpy(), axes\u001b[39m=\u001b[39m[\u001b[39m0\u001b[39m,\u001b[39m1\u001b[39m,\u001b[39m2\u001b[39m]), name\u001b[39m=\u001b[39m\u001b[39m\"\u001b[39m\u001b[39mMask\u001b[39m\u001b[39m\"\u001b[39m)\n\u001b[1;32m---> <a href='vscode-notebook-cell:/c%3A/Users/vegaarellano/Documents/Gitlab/instancesegmentation/tests/eda_files.ipynb#ch0000015?line=24'>25</a>\u001b[0m clipped_img \u001b[39m=\u001b[39m nib\u001b[39m.\u001b[39mNifti1Image(final_img, img_temp\u001b[39m.\u001b[39;49maffine, img_temp\u001b[39m.\u001b[39mheader)\n\u001b[0;32m     <a href='vscode-notebook-cell:/c%3A/Users/vegaarellano/Documents/Gitlab/instancesegmentation/tests/eda_files.ipynb#ch0000015?line=25'>26</a>\u001b[0m \u001b[39m#clipped_img = nib.Nifti1Image(final_img, img.affine, img.header)\u001b[39;00m\n\u001b[0;32m     <a href='vscode-notebook-cell:/c%3A/Users/vegaarellano/Documents/Gitlab/instancesegmentation/tests/eda_files.ipynb#ch0000015?line=26'>27</a>\u001b[0m nib\u001b[39m.\u001b[39msave(clipped_img, imgPathLib\u001b[39m.\u001b[39mreplace(\u001b[39mf\u001b[39m\u001b[39m\"\u001b[39m\u001b[39m{\u001b[39;00mimgPathLib\u001b[39m}\u001b[39;00m\u001b[39m.nii.gz\u001b[39m\u001b[39m\"\u001b[39m,\u001b[39m\"\u001b[39m\u001b[39mv2.nii.gz\u001b[39m\u001b[39m\"\u001b[39m))\n",
      "\u001b[1;31mAttributeError\u001b[0m: 'list' object has no attribute 'affine'"
     ]
    },
    {
     "name": "stderr",
     "output_type": "stream",
     "text": [
      "PluginError: Error in plugin 'builtins', hook 'napari_get_reader'\n",
      "  Cause was: ValueError('Could not find a backend to open `C:\\\\Users\\\\vegaarellano\\\\Documents\\\\Gitlab\\\\instancesegmentation\\\\dataset\\\\test\\\\images\\\\sub-r009s001_ses-1_T1w.nii.gz`` with iomode `ri`.')\n",
      "    in file: c:\\Users\\vegaarellano\\Anaconda3\\envs\\python-pytorch-gpu\\lib\\site-packages\\imageio\\core\\imopen.py\n",
      "    at line: 283\n",
      "     author: napari team\n",
      "      email: napari-steering-council@googlegroups.com\n",
      "    package: napari\n",
      "        url: https://napari.org\n",
      "    version: 0.4.12\n",
      "\n"
     ]
    }
   ],
   "source": [
    "removeEmptyData(files[0], files[1])"
   ]
  },
  {
   "cell_type": "code",
   "execution_count": 5,
   "metadata": {},
   "outputs": [
    {
     "name": "stdout",
     "output_type": "stream",
     "text": [
      "File generated in ../dataProcessing/train_files.csv\n",
      "File generated in ../dataProcessing/validation_files.csv\n",
      "File generated in ../dataProcessing/test_files.csv\n"
     ]
    }
   ],
   "source": [
    "# Load files from each dataset\n",
    "folders = [\"../dataset/train/images/\",\"../dataset/validation/images/\", \"../dataset/test/images/\"]\n",
    "for folder in folders:\n",
    "    #pathlib = \"../dataset/train/images/\"\n",
    "    values = []\n",
    "    for file in os.listdir(folder):\n",
    "        if \".nii.gz\" in file:\n",
    "            result = readOneFile(f\"{folder}{file}\")\n",
    "            values.append(result)\n",
    "    dataset = folder.split(\"/\")[2]\n",
    "    df = pd.DataFrame(values, columns=['File','Depth', 'no_masks', 'start_index','end_index'])\n",
    "    # calculate the image range of the images with masks\n",
    "    df[\"image_range\"] = df[\"end_index\"] - df[\"start_index\"]\n",
    "    df[\"images_with_area\"] = df[\"Depth\"] - df[\"no_masks\"]\n",
    "    df.to_csv(f\"../dataProcessing/{dataset}_files.csv\")\n",
    "    print(f\"File generated in ../dataProcessing/{dataset}_files.csv\")\n"
   ]
  },
  {
   "cell_type": "code",
   "execution_count": 64,
   "metadata": {},
   "outputs": [
    {
     "data": {
      "text/html": [
       "<div>\n",
       "<style scoped>\n",
       "    .dataframe tbody tr th:only-of-type {\n",
       "        vertical-align: middle;\n",
       "    }\n",
       "\n",
       "    .dataframe tbody tr th {\n",
       "        vertical-align: top;\n",
       "    }\n",
       "\n",
       "    .dataframe thead th {\n",
       "        text-align: right;\n",
       "    }\n",
       "</style>\n",
       "<table border=\"1\" class=\"dataframe\">\n",
       "  <thead>\n",
       "    <tr style=\"text-align: right;\">\n",
       "      <th></th>\n",
       "      <th>File</th>\n",
       "      <th>Depth</th>\n",
       "      <th>no_masks</th>\n",
       "      <th>start_index</th>\n",
       "      <th>end_index</th>\n",
       "    </tr>\n",
       "  </thead>\n",
       "  <tbody>\n",
       "    <tr>\n",
       "      <th>0</th>\n",
       "      <td>sub-r001s001_ses-1_space-orig_label-L_desc-T1l...</td>\n",
       "      <td>181</td>\n",
       "      <td>77</td>\n",
       "      <td>76</td>\n",
       "      <td>152</td>\n",
       "    </tr>\n",
       "    <tr>\n",
       "      <th>1</th>\n",
       "      <td>sub-r001s002_ses-1_space-orig_label-L_desc-T1l...</td>\n",
       "      <td>155</td>\n",
       "      <td>77</td>\n",
       "      <td>26</td>\n",
       "      <td>102</td>\n",
       "    </tr>\n",
       "    <tr>\n",
       "      <th>2</th>\n",
       "      <td>sub-r001s003_ses-1_space-orig_label-L_desc-T1l...</td>\n",
       "      <td>197</td>\n",
       "      <td>21</td>\n",
       "      <td>121</td>\n",
       "      <td>141</td>\n",
       "    </tr>\n",
       "    <tr>\n",
       "      <th>3</th>\n",
       "      <td>sub-r001s004_ses-1_space-orig_label-L_desc-T1l...</td>\n",
       "      <td>197</td>\n",
       "      <td>76</td>\n",
       "      <td>52</td>\n",
       "      <td>127</td>\n",
       "    </tr>\n",
       "    <tr>\n",
       "      <th>4</th>\n",
       "      <td>sub-r001s005_ses-1_space-orig_label-L_desc-T1l...</td>\n",
       "      <td>195</td>\n",
       "      <td>54</td>\n",
       "      <td>100</td>\n",
       "      <td>153</td>\n",
       "    </tr>\n",
       "  </tbody>\n",
       "</table>\n",
       "</div>"
      ],
      "text/plain": [
       "                                                File  Depth  no_masks  \\\n",
       "0  sub-r001s001_ses-1_space-orig_label-L_desc-T1l...    181        77   \n",
       "1  sub-r001s002_ses-1_space-orig_label-L_desc-T1l...    155        77   \n",
       "2  sub-r001s003_ses-1_space-orig_label-L_desc-T1l...    197        21   \n",
       "3  sub-r001s004_ses-1_space-orig_label-L_desc-T1l...    197        76   \n",
       "4  sub-r001s005_ses-1_space-orig_label-L_desc-T1l...    195        54   \n",
       "\n",
       "   start_index  end_index  \n",
       "0           76        152  \n",
       "1           26        102  \n",
       "2          121        141  \n",
       "3           52        127  \n",
       "4          100        153  "
      ]
     },
     "execution_count": 64,
     "metadata": {},
     "output_type": "execute_result"
    }
   ],
   "source": [
    "\n",
    "#df.head()"
   ]
  },
  {
   "cell_type": "code",
   "execution_count": 65,
   "metadata": {},
   "outputs": [],
   "source": [
    "# calculate the image range of the images with masks\n",
    "df[\"image_range\"] = df[\"end_index\"] - df[\"start_index\"]\n",
    "df[\"images_with_area\"] = df[\"Depth\"] - df[\"no_masks\"]"
   ]
  },
  {
   "cell_type": "code",
   "execution_count": 66,
   "metadata": {},
   "outputs": [
    {
     "data": {
      "text/html": [
       "<div>\n",
       "<style scoped>\n",
       "    .dataframe tbody tr th:only-of-type {\n",
       "        vertical-align: middle;\n",
       "    }\n",
       "\n",
       "    .dataframe tbody tr th {\n",
       "        vertical-align: top;\n",
       "    }\n",
       "\n",
       "    .dataframe thead th {\n",
       "        text-align: right;\n",
       "    }\n",
       "</style>\n",
       "<table border=\"1\" class=\"dataframe\">\n",
       "  <thead>\n",
       "    <tr style=\"text-align: right;\">\n",
       "      <th></th>\n",
       "      <th>File</th>\n",
       "      <th>Depth</th>\n",
       "      <th>no_masks</th>\n",
       "      <th>start_index</th>\n",
       "      <th>end_index</th>\n",
       "      <th>image_range</th>\n",
       "      <th>images_with_area</th>\n",
       "    </tr>\n",
       "  </thead>\n",
       "  <tbody>\n",
       "    <tr>\n",
       "      <th>0</th>\n",
       "      <td>sub-r001s001_ses-1_space-orig_label-L_desc-T1l...</td>\n",
       "      <td>181</td>\n",
       "      <td>77</td>\n",
       "      <td>76</td>\n",
       "      <td>152</td>\n",
       "      <td>76</td>\n",
       "      <td>104</td>\n",
       "    </tr>\n",
       "    <tr>\n",
       "      <th>1</th>\n",
       "      <td>sub-r001s002_ses-1_space-orig_label-L_desc-T1l...</td>\n",
       "      <td>155</td>\n",
       "      <td>77</td>\n",
       "      <td>26</td>\n",
       "      <td>102</td>\n",
       "      <td>76</td>\n",
       "      <td>78</td>\n",
       "    </tr>\n",
       "    <tr>\n",
       "      <th>2</th>\n",
       "      <td>sub-r001s003_ses-1_space-orig_label-L_desc-T1l...</td>\n",
       "      <td>197</td>\n",
       "      <td>21</td>\n",
       "      <td>121</td>\n",
       "      <td>141</td>\n",
       "      <td>20</td>\n",
       "      <td>176</td>\n",
       "    </tr>\n",
       "    <tr>\n",
       "      <th>3</th>\n",
       "      <td>sub-r001s004_ses-1_space-orig_label-L_desc-T1l...</td>\n",
       "      <td>197</td>\n",
       "      <td>76</td>\n",
       "      <td>52</td>\n",
       "      <td>127</td>\n",
       "      <td>75</td>\n",
       "      <td>121</td>\n",
       "    </tr>\n",
       "    <tr>\n",
       "      <th>4</th>\n",
       "      <td>sub-r001s005_ses-1_space-orig_label-L_desc-T1l...</td>\n",
       "      <td>195</td>\n",
       "      <td>54</td>\n",
       "      <td>100</td>\n",
       "      <td>153</td>\n",
       "      <td>53</td>\n",
       "      <td>141</td>\n",
       "    </tr>\n",
       "  </tbody>\n",
       "</table>\n",
       "</div>"
      ],
      "text/plain": [
       "                                                File  Depth  no_masks  \\\n",
       "0  sub-r001s001_ses-1_space-orig_label-L_desc-T1l...    181        77   \n",
       "1  sub-r001s002_ses-1_space-orig_label-L_desc-T1l...    155        77   \n",
       "2  sub-r001s003_ses-1_space-orig_label-L_desc-T1l...    197        21   \n",
       "3  sub-r001s004_ses-1_space-orig_label-L_desc-T1l...    197        76   \n",
       "4  sub-r001s005_ses-1_space-orig_label-L_desc-T1l...    195        54   \n",
       "\n",
       "   start_index  end_index  image_range  images_with_area  \n",
       "0           76        152           76               104  \n",
       "1           26        102           76                78  \n",
       "2          121        141           20               176  \n",
       "3           52        127           75               121  \n",
       "4          100        153           53               141  "
      ]
     },
     "execution_count": 66,
     "metadata": {},
     "output_type": "execute_result"
    }
   ],
   "source": [
    "df.head()"
   ]
  },
  {
   "cell_type": "code",
   "execution_count": 67,
   "metadata": {},
   "outputs": [],
   "source": [
    "df.to_csv(\"../dataProcessing/training_files.csv\")"
   ]
  },
  {
   "cell_type": "code",
   "execution_count": 68,
   "metadata": {},
   "outputs": [
    {
     "data": {
      "image/png": "[encoded data removed]",
      "text/plain": [
       "<Figure size 432x288 with 1 Axes>"
      ]
     },
     "metadata": {
      "needs_background": "light"
     },
     "output_type": "display_data"
    }
   ],
   "source": [
    "# Plots\n",
    "plt.hist(df[\"Depth\"])\n",
    "plt.title(\"Distribution No Sequence\")\n",
    "plt.show()"
   ]
  },
  {
   "cell_type": "code",
   "execution_count": 82,
   "metadata": {},
   "outputs": [
    {
     "name": "stdout",
     "output_type": "stream",
     "text": [
      "512\n",
      "72\n",
      "221.89285714285714\n",
      "230.0\n",
      "228    sub-r035s003_ses-1_space-orig_label-L_desc-T1l...\n",
      "229    sub-r035s005_ses-1_space-orig_label-L_desc-T1l...\n",
      "230    sub-r035s006_ses-1_space-orig_label-L_desc-T1l...\n",
      "231    sub-r035s007_ses-1_space-orig_label-L_desc-T1l...\n",
      "232    sub-r035s011_ses-1_space-orig_label-L_desc-T1l...\n",
      "233    sub-r035s012_ses-1_space-orig_label-L_desc-T1l...\n",
      "234    sub-r035s013_ses-1_space-orig_label-L_desc-T1l...\n",
      "235    sub-r035s014_ses-1_space-orig_label-L_desc-T1l...\n",
      "Name: File, dtype: object\n"
     ]
    }
   ],
   "source": [
    "print(np.max(df[\"Depth\"]))\n",
    "print(np.min(df[\"Depth\"]))\n",
    "print(np.mean(df[\"Depth\"]))\n",
    "print(np.median(df[\"Depth\"]))\n",
    "\n",
    "print(df.loc[df[\"Depth\"]==512,\"File\"])"
   ]
  },
  {
   "cell_type": "code",
   "execution_count": 69,
   "metadata": {},
   "outputs": [
    {
     "data": {
      "image/png": "[encoded data removed]",
      "text/plain": [
       "<Figure size 432x288 with 1 Axes>"
      ]
     },
     "metadata": {
      "needs_background": "light"
     },
     "output_type": "display_data"
    }
   ],
   "source": [
    "# Plots\n",
    "plt.hist(df[\"no_masks\"])\n",
    "plt.title(\"Distribution No Masks\")\n",
    "plt.show()"
   ]
  },
  {
   "cell_type": "code",
   "execution_count": 70,
   "metadata": {},
   "outputs": [
    {
     "data": {
      "image/png": "[encoded data removed]",
      "text/plain": [
       "<Figure size 432x288 with 1 Axes>"
      ]
     },
     "metadata": {
      "needs_background": "light"
     },
     "output_type": "display_data"
    }
   ],
   "source": [
    "plt.boxplot(df[\"start_index\"])\n",
    "plt.title(\"Starting image of the sequence\")\n",
    "plt.show()"
   ]
  },
  {
   "cell_type": "code",
   "execution_count": 71,
   "metadata": {},
   "outputs": [
    {
     "data": {
      "image/png": "[encoded data removed]",
      "text/plain": [
       "<Figure size 432x288 with 1 Axes>"
      ]
     },
     "metadata": {
      "needs_background": "light"
     },
     "output_type": "display_data"
    }
   ],
   "source": [
    "plt.boxplot(df[\"end_index\"])\n",
    "plt.title(\"Ending image of the sequence\")\n",
    "plt.show()"
   ]
  },
  {
   "cell_type": "code",
   "execution_count": 22,
   "metadata": {},
   "outputs": [
    {
     "name": "stdout",
     "output_type": "stream",
     "text": [
      "32\n",
      "64\n",
      "96\n",
      "128\n",
      "160\n",
      "192\n",
      "224\n",
      "256\n",
      "288\n",
      "320\n",
      "352\n",
      "384\n",
      "416\n",
      "448\n",
      "480\n",
      "512\n",
      "544\n",
      "576\n"
     ]
    }
   ],
   "source": [
    "# Get 32 multiples \n",
    "n = 32\n",
    "max = 600\n",
    "for i in range(n,max+1,n):\n",
    "    print(i)\n",
    "    "
   ]
  },
  {
   "cell_type": "code",
   "execution_count": 53,
   "metadata": {},
   "outputs": [],
   "source": [
    "import torch\n",
    "sub_x = torch.zeros((1,1,32,128,128))\n",
    "sub_y = torch.ones((1,1,32,128,128))\n",
    "predictions = torch.zeros((1,1,32,128,128))\n"
   ]
  },
  {
   "cell_type": "code",
   "execution_count": 57,
   "metadata": {},
   "outputs": [
    {
     "name": "stdout",
     "output_type": "stream",
     "text": [
      "torch.Size([1, 1, 128, 128])\n"
     ]
    }
   ],
   "source": [
    "import torchvision\n",
    "from datetime import date\n",
    "print(sub_x[:,:,15,:,:].shape)\n",
    "result = torch.cat((sub_x[:,:,15,:,:],sub_y[:,:,15,:,:],predictions[:,:,15,:,:]),dim=0)\n",
    "grid = torchvision.utils.make_grid(result, nrow=3, padding=100)\n",
    "torchvision.utils.save_image(grid, f'./vnet_training_{date.today()}.png')"
   ]
  },
  {
   "cell_type": "code",
   "execution_count": 47,
   "metadata": {},
   "outputs": [
    {
     "name": "stdout",
     "output_type": "stream",
     "text": [
      "6.5\n",
      "6\n",
      "16\n",
      "first case\n",
      "Need to create 16 slices\n"
     ]
    }
   ],
   "source": [
    "n = 32\n",
    "input = 208\n",
    "result = 0\n",
    "# print(512/33)\n",
    "# print(512//33)\n",
    "# print(512%33)\n",
    "print(input/n)\n",
    "print(input//n)\n",
    "print(input%n)\n",
    "if input%n > 0:\n",
    "    result = ((input//n)*n+n) - input\n",
    "    print(\"first case\")\n",
    "#print(result)\n",
    "print(f\"Need to create {result} slices\")"
   ]
  },
  {
   "cell_type": "code",
   "execution_count": 5,
   "metadata": {},
   "outputs": [],
   "source": [
    "import torch.nn as nn\n",
    "import torch\n",
    "\n",
    "\n",
    "class one_step_conv(nn.Module):\n",
    "    def __init__(self, in_ch, out_ch):\n",
    "        super(one_step_conv, self).__init__()\n",
    "        self.conv = nn.Sequential(\n",
    "            # Level 1            \n",
    "            nn.Conv2d(in_channels=in_ch, out_channels=out_ch, kernel_size=3, padding=1),            \n",
    "            nn.BatchNorm2d(out_ch),\n",
    "            nn.ReLU(inplace=True),\n",
    "            # Level 2            \n",
    "            nn.Conv2d(in_channels=out_ch, out_channels=out_ch, kernel_size=3, padding=1),            \n",
    "            nn.BatchNorm2d(out_ch),\n",
    "            nn.ReLU(inplace=True),\n",
    "            #nn.Dropout2d(p=0.2)             \n",
    "        )\n",
    "\n",
    "    def forward(self, input):\n",
    "        input = self.conv(input)\n",
    "        return input\n"
   ]
  },
  {
   "cell_type": "code",
   "execution_count": 6,
   "metadata": {},
   "outputs": [
    {
     "name": "stdout",
     "output_type": "stream",
     "text": [
      "torch.Size([1, 1, 256, 256])\n",
      "torch.Size([1, 1, 256, 256])\n"
     ]
    }
   ],
   "source": [
    "x = torch.rand((1,1,256,256))            \n",
    "print(x.shape)\n",
    "model = one_step_conv(in_ch=1, out_ch=1)\n",
    "pred = model(x)\n",
    "print(pred.shape)"
   ]
  }
 ],
 "metadata": {
  "interpreter": {
   "hash": "093d5465ff97490e0b022d142b90f59cc8a55a6f070251dabb2616970adc559f"
  },
  "kernelspec": {
   "display_name": "Python 3.10.4 ('python-pytorch-gpu')",
   "language": "python",
   "name": "python3"
  },
  "language_info": {
   "codemirror_mode": {
    "name": "ipython",
    "version": 3
   },
   "file_extension": ".py",
   "mimetype": "text/x-python",
   "name": "python",
   "nbconvert_exporter": "python",
   "pygments_lexer": "ipython3",
   "version": "3.10.4"
  },
  "orig_nbformat": 4
 },
 "nbformat": 4,
 "nbformat_minor": 2
}
